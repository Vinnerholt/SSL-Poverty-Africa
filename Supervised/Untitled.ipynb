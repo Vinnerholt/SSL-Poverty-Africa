{
 "cells": [
  {
   "cell_type": "code",
   "execution_count": 7,
   "metadata": {},
   "outputs": [
    {
     "name": "stdout",
     "output_type": "stream",
     "text": [
      "/bin/bash: my_python/bin/activate: No such file or directory\n",
      "Installed kernelspec jepython in /cephyr/users/jesstr/Alvis/.local/share/jupyter/kernels/jepython\n"
     ]
    }
   ],
   "source": [
    "!flat_modules\n",
    "#!module load SciPy-bundle/2021.05-foss-2021a matplotlib/3.4.2-foss-2021a h5py/3.2.1-foss-2021a\n",
    "!source my_python/bin/activate\n",
    "!python -m ipykernel install --user --name=jepython --display-name=\"minkernel\""
   ]
  }
 ],
 "metadata": {
  "kernelspec": {
   "display_name": "Python 3",
   "language": "python",
   "name": "python3"
  },
  "language_info": {
   "codemirror_mode": {
    "name": "ipython",
    "version": 3
   },
   "file_extension": ".py",
   "mimetype": "text/x-python",
   "name": "python",
   "nbconvert_exporter": "python",
   "pygments_lexer": "ipython3",
   "version": "3.8.6"
  }
 },
 "nbformat": 4,
 "nbformat_minor": 4
}
