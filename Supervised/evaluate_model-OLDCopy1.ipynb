{
 "cells": [
  {
   "cell_type": "code",
   "execution_count": 1,
   "metadata": {},
   "outputs": [],
   "source": [
    "import torch\n",
    "import pandas as pd\n",
    "import numpy as np\n",
    "import pickle as pkl"
   ]
  },
  {
   "cell_type": "code",
   "execution_count": 2,
   "metadata": {},
   "outputs": [
    {
     "data": {
      "text/plain": [
       "<module 'supervised_dataset' from '/cephyr/NOBACKUP/groups/globalpoverty1/JesperBenjamin/Supervised/supervised_dataset.py'>"
      ]
     },
     "execution_count": 2,
     "metadata": {},
     "output_type": "execute_result"
    }
   ],
   "source": [
    "import supervised_dataset\n",
    "import importlib\n",
    "importlib.reload(supervised_dataset)"
   ]
  },
  {
   "cell_type": "code",
   "execution_count": 3,
   "metadata": {},
   "outputs": [
    {
     "name": "stderr",
     "output_type": "stream",
     "text": [
      "/cephyr/users/benvin/Alvis/.local/lib/python3.8/site-packages/torchvision/io/image.py:11: UserWarning: Failed to load image Python extension: /cephyr/users/benvin/Alvis/.local/lib/python3.8/site-packages/torchvision/image.so: undefined symbol: _ZNK3c106IValue23reportToTensorTypeErrorEv\n",
      "  warn(f\"Failed to load image Python extension: {e}\")\n"
     ]
    }
   ],
   "source": [
    "import sys\n",
    "sys.path.insert(0, '/cephyr/NOBACKUP/groups/globalpoverty1/JesperBenjamin/geography-aware-ssl/moco_fmow/moco')\n",
    "from ms_nl_resnet import MS_NL_ResNet18\n"
   ]
  },
  {
   "cell_type": "code",
   "execution_count": null,
   "metadata": {},
   "outputs": [],
   "source": [
    "for fold in ['A', 'B', 'C', 'D', 'E']:\n",
    "    losses = pd.read_csv('fold_{}/losses_fold_{}_epoch_0068_.txt'.format(fold, fold), sep=\",\", header=None)\n",
    "    best_epoch = losses[1].argmin()\n",
    "    print(\"Best epoch: \", best_epoch)\n",
    "    print(\"Best epoch val_loss: \", losses[1].iloc[best_epoch])\n",
    "\n",
    "    model = MS_NL_ResNet18(num_classes=1)\n",
    "\n",
    "    checkpoint_path = 'fold_{}/checkpoint_fold_{}_{:04d}.pth.tar'.format(fold, fold, best_epoch)\n",
    "    print(\"Model loaded: \", checkpoint_path)\n",
    "    checkpoint = torch.load(checkpoint_path, map_location='cpu')\n",
    "\n",
    "    checkpoint_dict = dict()\n",
    "    for key in checkpoint['state_dict'].keys():\n",
    "        resnet_key=key.replace(\"module.\", \"\")\n",
    "        checkpoint_dict[resnet_key]=checkpoint['state_dict'][key]\n",
    "\n",
    "    model.load_state_dict(checkpoint_dict)"
   ]
  },
  {
   "cell_type": "code",
   "execution_count": 4,
   "metadata": {},
   "outputs": [
    {
     "name": "stdout",
     "output_type": "stream",
     "text": [
      "Best epoch:  12\n",
      "Best epoch val_loss:  120.83437824249269\n",
      "Model loaded:  fold_A/checkpoint_fold_A_0012.pth.tar\n"
     ]
    },
    {
     "data": {
      "text/plain": [
       "<All keys matched successfully>"
      ]
     },
     "execution_count": 4,
     "metadata": {},
     "output_type": "execute_result"
    }
   ],
   "source": [
    "fold = 'A'\n",
    "\n",
    "losses = pd.read_csv('fold_{}/losses_fold_{}_epoch_0068_.txt'.format(fold, fold), sep=\",\", header=None)\n",
    "best_epoch = losses[1].argmin()\n",
    "print(\"Best epoch: \", best_epoch)\n",
    "print(\"Best epoch val_loss: \", losses[1].iloc[best_epoch])\n",
    "\n",
    "model = MS_NL_ResNet18(num_classes=1)\n",
    "#optimizer = torch.optim.Adam(model.parameters(), lr=0.02)\n",
    "\n",
    "checkpoint_path = 'fold_{}/checkpoint_fold_{}_{:04d}.pth.tar'.format(fold, fold, best_epoch)\n",
    "print(\"Model loaded: \", checkpoint_path)\n",
    "checkpoint = torch.load(checkpoint_path, map_location='cpu')\n",
    "\n",
    "checkpoint_dict = dict()\n",
    "for key in checkpoint['state_dict'].keys():\n",
    "    resnet_key=key.replace(\"module.\", \"\")\n",
    "    checkpoint_dict[resnet_key]=checkpoint['state_dict'][key]\n",
    "            \n",
    "model.load_state_dict(checkpoint_dict)\n",
    "#optimizer.load_state_dict(checkpoint['optimizer_state_dict'])"
   ]
  },
  {
   "cell_type": "code",
   "execution_count": 5,
   "metadata": {},
   "outputs": [
    {
     "name": "stdout",
     "output_type": "stream",
     "text": [
      "\n"
     ]
    }
   ],
   "source": [
    "torch.cuda.set_device(0)\n",
    "model.cuda(0)\n",
    "print()\n",
    "\n",
    "criterion = torch.nn.MSELoss().cuda(0)"
   ]
  },
  {
   "cell_type": "code",
   "execution_count": 6,
   "metadata": {},
   "outputs": [],
   "source": [
    "csv = \"/cephyr/NOBACKUP/groups/globalpoverty1/JesperBenjamin/Supervised/dhs_clusters_paths.csv\"\n",
    "folds_path = '/cephyr/NOBACKUP/groups/globalpoverty1/JesperBenjamin/CreateFolds/new_dhs_incountry_folds.pkl'\n",
    "\n",
    "\n",
    "with open(folds_path, 'rb') as handle:\n",
    "        folds = pkl.load(handle)\n",
    "        \n",
    "test_dataset = supervised_dataset.SupervisedDataset(csv, csv_indices=folds[fold]['test'])\n",
    "\n",
    "batch_size = 64\n",
    "test_loader = torch.utils.data.DataLoader(\n",
    "    test_dataset, batch_size=batch_size, shuffle=False)\n",
    "\n"
   ]
  },
  {
   "cell_type": "code",
   "execution_count": 28,
   "metadata": {},
   "outputs": [],
   "source": [
    "plt.rcParams[\"figure.figsize\"] = (20,10)"
   ]
  },
  {
   "cell_type": "markdown",
   "metadata": {},
   "source": [
    "# Run eval on model"
   ]
  },
  {
   "cell_type": "code",
   "execution_count": 8,
   "metadata": {},
   "outputs": [
    {
     "name": "stdout",
     "output_type": "stream",
     "text": [
      "tensor(321.3807, device='cuda:0', grad_fn=<MseLossBackward>)\n"
     ]
    }
   ],
   "source": [
    "# TEST MODEL\n",
    "iwi_pred = []\n",
    "iwi_true = []\n",
    "\n",
    "model.eval()\n",
    "for i, (images, labels) in enumerate(test_loader):\n",
    "    #print(images.size())\n",
    "    images = images.cuda(0)\n",
    "    labels = labels.cuda(0)\n",
    "    \n",
    "    preds = model(images)\n",
    "    preds = torch.squeeze(preds)\n",
    "    #print(preds.size())\n",
    "    \n",
    "    loss = criterion(preds, labels)\n",
    "    print(loss)\n",
    "    \n",
    "    for pred in preds:\n",
    "        iwi_pred.append(pred.item())\n",
    "    \n",
    "    for label in labels:\n",
    "        iwi_true.append(label.item())\n",
    "    \n",
    "    \n",
    "    #iwi_preds.extend(preds.numpy())\n",
    "    \n",
    "    #if i >= 0:\n",
    "    #    break\n",
    "    \n",
    "    print(\"batch: \", i, \"/\", len(test_loader))\n",
    "    print()\n",
    "    \n",
    "with open('preds_{}.pkl'.format(fold), 'wb') as f:\n",
    "    pkl.dump(iwi_pred, f)"
   ]
  },
  {
   "cell_type": "code",
   "execution_count": 35,
   "metadata": {},
   "outputs": [
    {
     "name": "stdout",
     "output_type": "stream",
     "text": [
      "r2:  0.4337048670778558\n",
      "slope:  0.509458999060509 intercept:  21.55484907833142\n"
     ]
    },
    {
     "data": {
      "text/plain": [
       "[<matplotlib.lines.Line2D at 0x14e3d46ffaf0>]"
      ]
     },
     "execution_count": 35,
     "metadata": {},
     "output_type": "execute_result"
    },
    {
     "data": {
      "image/png": "[encoded data removed]",
      "text/plain": [
       "<Figure size 720x720 with 1 Axes>"
      ]
     },
     "metadata": {
      "needs_background": "light"
     },
     "output_type": "display_data"
    }
   ],
   "source": [
    "import matplotlib.pyplot as plt\n",
    "from sklearn.metrics import r2_score\n",
    "%matplotlib inline\n",
    "\n",
    "r2 = r2_score(iwi_true, iwi_pred)\n",
    "print(\"r2: \", r2)\n",
    "\n",
    "plt.figure(figsize=(10,10))\n",
    "plt.scatter(iwi_true, iwi_pred, alpha=0.05)\n",
    "m, b = np.polyfit(iwi_true, iwi_pred, 1)\n",
    "\n",
    "x = [i for i in range(101)]\n",
    "y = [i*m + b for i in x]\n",
    "\n",
    "print(\"slope: \", m, \"intercept: \", b)\n",
    "\n",
    "plt.title('r2 = ' + str(r2), fontsize=15)\n",
    "plt.xlabel('True IWI', fontsize=20)\n",
    "plt.ylabel('Predicted IWI', fontsize=20)\n",
    "plt.plot(x, y, c='red')\n",
    "\n"
   ]
  },
  {
   "cell_type": "code",
   "execution_count": 138,
   "metadata": {},
   "outputs": [
    {
     "data": {
      "text/plain": [
       "tensor(141.2976)"
      ]
     },
     "execution_count": 138,
     "metadata": {},
     "output_type": "execute_result"
    }
   ],
   "source": [
    "lossf = criterion(torch.Tensor(iwi_pred), torch.Tensor(iwi_true))\n",
    "lossf"
   ]
  },
  {
   "cell_type": "code",
   "execution_count": 20,
   "metadata": {},
   "outputs": [],
   "source": []
  },
  {
   "cell_type": "code",
   "execution_count": null,
   "metadata": {},
   "outputs": [],
   "source": []
  }
 ],
 "metadata": {
  "kernelspec": {
   "display_name": "Python 3",
   "language": "python",
   "name": "python3"
  },
  "language_info": {
   "codemirror_mode": {
    "name": "ipython",
    "version": 3
   },
   "file_extension": ".py",
   "mimetype": "text/x-python",
   "name": "python",
   "nbconvert_exporter": "python",
   "pygments_lexer": "ipython3",
   "version": "3.8.6"
  }
 },
 "nbformat": 4,
 "nbformat_minor": 4
}
