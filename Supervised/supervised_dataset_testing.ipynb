{
 "cells": [
  {
   "cell_type": "code",
   "execution_count": 1,
   "metadata": {},
   "outputs": [],
   "source": [
    "import tensorflow as tf\n",
    "import numpy as np\n",
    "import pandas as pd \n",
    "import matplotlib.pyplot as plt\n",
    "import torch\n",
    "%matplotlib inline"
   ]
  },
  {
   "cell_type": "code",
   "execution_count": 3,
   "metadata": {},
   "outputs": [],
   "source": [
    "img_path = '/cephyr/NOBACKUP/groups/globalpoverty1/data/dhs_tfrecords/angola_2006/00000.tfrecord.gz'"
   ]
  },
  {
   "cell_type": "code",
   "execution_count": 4,
   "metadata": {},
   "outputs": [],
   "source": [
    "dataset = tf.data.TFRecordDataset(\n",
    "    filenames=img_path,\n",
    "    compression_type='GZIP')\n",
    "\n"
   ]
  },
  {
   "cell_type": "code",
   "execution_count": 5,
   "metadata": {},
   "outputs": [
    {
     "name": "stdout",
     "output_type": "stream",
     "text": [
      "\n",
      "Location nr. 0\n",
      "BLUE: mean=0.058, shape=(10, 224, 224)\n",
      "GREEN: mean=0.080, shape=(10, 224, 224)\n",
      "NIGHTLIGHTS: mean=2.261, shape=(10, 224, 224)\n",
      "NIR: mean=0.216, shape=(10, 224, 224)\n",
      "RED: mean=0.087, shape=(10, 224, 224)\n",
      "SWIR1: mean=0.229, shape=(10, 224, 224)\n",
      "SWIR2: mean=0.145, shape=(10, 224, 224)\n",
      "TEMP1: mean=297.973, shape=(10, 224, 224)\n",
      "iwi: 68.09629821777344\n",
      "lat: -12.169282913208008\n",
      "lon: 13.859254837036133\n",
      "year: 2006.0\n",
      "\n"
     ]
    }
   ],
   "source": [
    "\n",
    "# Config image parse from tfrecord\n",
    "bands = ['BLUE', 'GREEN', 'RED', 'SWIR1', 'SWIR2', 'TEMP1', 'NIR', 'NIGHTLIGHTS']\n",
    "n_temporal_frames = 10\n",
    "keys_to_features = {}\n",
    "for band in bands:\n",
    "    keys_to_features[band] = tf.io.FixedLenFeature(shape=[224 ** 2 * n_temporal_frames], dtype=tf.float32)\n",
    "scalar_float_keys = ['lat', 'lon', 'year', 'iwi']\n",
    "for key in scalar_float_keys:\n",
    "    keys_to_features[key] = tf.io.FixedLenFeature(shape=[], dtype=tf.float32)\n",
    "\n",
    "# Parse and print all 13 samples\n",
    "for i, example_proto in enumerate(dataset):\n",
    "    ex = tf.io.parse_single_example(example_proto, features=keys_to_features)\n",
    "\n",
    "    print(f'\\nLocation nr. {i}')\n",
    "\n",
    "    # Reshape to (10, 224, 224)\n",
    "    for band in bands:\n",
    "        ex[band] = tf.reshape(ex[band], (n_temporal_frames, 224, 224))\n",
    "\n",
    "    # Print the value for all scalar_float_keys, but only the mean/shape for the bands\n",
    "    for key in ex.keys():\n",
    "        if key in bands:\n",
    "            band_frames = ex[key].numpy()\n",
    "            print(f'{key}: mean={band_frames.mean():.3f}, shape={band_frames.shape}')\n",
    "        else:\n",
    "            # key in scalar_float_keys\n",
    "            print(f'{key}: {ex[key].numpy()}')\n",
    "    print('')"
   ]
  },
  {
   "cell_type": "code",
   "execution_count": 18,
   "metadata": {
    "collapsed": true,
    "jupyter": {
     "outputs_hidden": true
    }
   },
   "outputs": [
    {
     "name": "stdout",
     "output_type": "stream",
     "text": [
      "0 BLUE\n",
      "1 GREEN\n",
      "2 NIGHTLIGHTS\n",
      "3 NIR\n",
      "4 RED\n",
      "5 SWIR1\n",
      "6 SWIR2\n",
      "7 TEMP1\n",
      "8 iwi\n",
      "9 lat\n",
      "10 lon\n",
      "11 year\n"
     ]
    }
   ],
   "source": [
    "for i, k in enumerate(ex):\n",
    "    print(i, k)"
   ]
  },
  {
   "cell_type": "raw",
   "metadata": {
    "jupyter": {
     "outputs_hidden": true
    }
   },
   "source": [
    "## FOR ALL COMPOSITES AT ONCE\n",
    "dataset = tf.data.TFRecordDataset(\n",
    "     filenames=img_path,\n",
    "     compression_type='GZIP'\n",
    " )\n",
    "\n",
    "for i, example_proto in enumerate(dataset):\n",
    "    ex = tf.io.parse_single_example(example_proto, features=keys_to_features)\n",
    "    \n",
    "    # Reshape to (10, 224, 224)\n",
    "    for band in bands:\n",
    "        ex[band] = tf.reshape(ex[band], (n_temporal_frames, 224, 224))\n",
    "\n",
    "img_data = np.empty((8,10,224,224))\n",
    "for i, k in enumerate(ex):\n",
    "    print(i, k)\n",
    "    print(np.shape(ex[k]))\n",
    "    #print(type(ex[k].numpy()))\n",
    "    #print(np.shape(ex[k].numpy()))\n",
    "    band_index = bands.index(k)\n",
    "    print(band_index)\n",
    "    #img_data[band_index] = ex[k].numpy()\n",
    "    \n",
    "    # Normalize data\n",
    "    # Nightlights before 2015 is DMSP, and after 2015 is VIIRS\n",
    "    if k == 'NIGHTLIGHTS': \n",
    "        if ex['year'] > 2015:\n",
    "            ex[k] = (ex[k] - band_means[8]) / band_stds[8]\n",
    "            img_data[band_index] = ex[k].numpy()\n",
    "        else:\n",
    "            ex[k] = (ex[k] - band_means[7]) / band_stds[7]\n",
    "            img_data[band_index] = ex[k].numpy()\n",
    "    \n",
    "    else:\n",
    "        print(np.mean(ex[k]))\n",
    "        ex[k] = (ex[k] - band_means[band_index]) / band_stds[band_index]\n",
    "        print(np.mean(ex[k]))\n",
    "        img_data[band_index] = ex[k].numpy()\n",
    "    # Only get first 8 entries, i.e. all image bands\n",
    "    if i >= 7:\n",
    "        break"
   ]
  },
  {
   "cell_type": "code",
   "execution_count": 26,
   "metadata": {
    "collapsed": true,
    "jupyter": {
     "outputs_hidden": true
    }
   },
   "outputs": [
    {
     "name": "stdout",
     "output_type": "stream",
     "text": [
      "(8, 10, 224, 224)\n",
      "(80, 224, 224)\n",
      "-0.16652832016546765\n"
     ]
    }
   ],
   "source": [
    "\n",
    "print(np.shape(img_data))\n",
    "\n",
    "img_data_reshaped = img_data.reshape((80,224,224))\n",
    "\n",
    "print(np.shape(img_data_reshaped))\n",
    "\n",
    "print(np.mean(img_data_reshaped[1]))"
   ]
  },
  {
   "cell_type": "code",
   "execution_count": 23,
   "metadata": {},
   "outputs": [
    {
     "name": "stdout",
     "output_type": "stream",
     "text": [
      "tf.Tensor(40.319046, shape=(), dtype=float32)\n",
      "tf.Tensor(40.319046, shape=(), dtype=float32)\n",
      "tf.Tensor(40.319046, shape=(), dtype=float32)\n",
      "tf.Tensor(40.319046, shape=(), dtype=float32)\n",
      "tf.Tensor(40.319046, shape=(), dtype=float32)\n",
      "tf.Tensor(40.319046, shape=(), dtype=float32)\n",
      "tf.Tensor(40.319046, shape=(), dtype=float32)\n",
      "tf.Tensor(40.319046, shape=(), dtype=float32)\n"
     ]
    }
   ],
   "source": [
    "#img_path = '/cephyr/NOBACKUP/groups/globalpoverty1/data/dhs_tfrecords/egypt_2014/01166.tfrecord.gz'\n",
    "#img_path = '/cephyr/NOBACKUP/groups/globalpoverty1/data/dhs_tfrecords/egypt_2014/01164.tfrecord.gz'\n",
    "#img_path = '/cephyr/NOBACKUP/groups/globalpoverty1/data/dhs_tfrecords/egypt_2014/01158.tfrecord.gz'\n",
    "#img_path = '/cephyr/NOBACKUP/groups/globalpoverty1/data/dhs_tfrecords/egypt_2014/01154.tfrecord.gz'\n",
    "#img_path = '/cephyr/NOBACKUP/groups/globalpoverty1/data/dhs_tfrecords/egypt_2014/01163.tfrecord.gz'\n",
    "#img_path = '/cephyr/NOBACKUP/groups/globalpoverty1/data/dhs_tfrecords/egypt_2014/01168.tfrecord.gz'\n",
    "img_path = '/cephyr/NOBACKUP/groups/globalpoverty1/data/dhs_tfrecords/egypt_2014/01165.tfrecord.gz'\n",
    "img_path = '/cephyr/NOBACKUP/groups/globalpoverty1/data/dhs_tfrecords/egypt_2014/01153.tfrecord.gz'\n",
    "img_path = '/cephyr/NOBACKUP/groups/globalpoverty1/data/dhs_tfrecords/cameroon_2011/00115.tfrecord.gz'\n",
    "img_path = '/cephyr/NOBACKUP/groups/globalpoverty1/data/dhs_tfrecords/rwanda_2008/00217.tfrecord.gz'\n",
    "\n",
    "\n",
    "\n",
    "\n",
    "\n",
    "\n",
    "\n",
    "\n",
    "\n",
    "def year_to_index(year):\n",
    "        year = year - 1990\n",
    "        year = int(year/3)\n",
    "        \n",
    "        return year\n",
    "    \n",
    "\n",
    "# GET JUST A SINGLE TEMPORAL COMPOSITE\n",
    "dataset = tf.data.TFRecordDataset(\n",
    "     filenames=img_path,\n",
    "     compression_type='GZIP'\n",
    " )\n",
    "\n",
    "for i, example_proto in enumerate(dataset):\n",
    "    ex = tf.io.parse_single_example(example_proto, features=keys_to_features)\n",
    "    \n",
    "    # Reshape to (10, 224, 224)\n",
    "for band in bands:\n",
    "    ex[band] = tf.reshape(ex[band], (n_temporal_frames, 224, 224))\n",
    "\n",
    "    \n",
    "img_data = np.empty((8,224,224))\n",
    "for i, k in enumerate(ex):\n",
    "    band_index = bands.index(k)\n",
    "    composite_index = year_to_index(ex['year'])\n",
    "    print(ex['iwi'])\n",
    "\n",
    "    # Normalize data\n",
    "    if k == 'NIGHTLIGHTS': \n",
    "        if ex['year'] > 2015:\n",
    "            composite = (ex[k][composite_index] - band_means[8]) / band_stds[8]\n",
    "            img_data[band_index] = composite.numpy()\n",
    "        else:\n",
    "            composite = (ex[k][composite_index] - band_means[7]) / band_stds[7]\n",
    "            img_data[band_index] = composite.numpy()\n",
    "\n",
    "    else:\n",
    "        composite = (ex[k][composite_index] - band_means[band_index]) / band_stds[band_index]\n",
    "        img_data[band_index] = composite.numpy()\n",
    "\n",
    "    # Only get first 8 entries, i.e. all image bands\n",
    "    if i >= 7:\n",
    "        break"
   ]
  },
  {
   "cell_type": "code",
   "execution_count": 24,
   "metadata": {},
   "outputs": [
    {
     "data": {
      "image/png": "[encoded data removed]",
      "text/plain": [
       "<Figure size 432x288 with 1 Axes>"
      ]
     },
     "metadata": {
      "needs_background": "light"
     },
     "output_type": "display_data"
    },
    {
     "data": {
      "text/plain": [
       "<AxesSubplot:>"
      ]
     },
     "execution_count": 24,
     "metadata": {},
     "output_type": "execute_result"
    }
   ],
   "source": [
    "from rasterio.plot import show\n",
    "plt.axis('off')\n",
    "#plt.savefig(\"overlap1.png\",bbox_inches='tight')\n",
    "show(img_data[(2,1,0),:,:], adjust=True)\n"
   ]
  },
  {
   "cell_type": "code",
   "execution_count": 29,
   "metadata": {
    "collapsed": true,
    "jupyter": {
     "outputs_hidden": true
    }
   },
   "outputs": [
    {
     "name": "stdout",
     "output_type": "stream",
     "text": [
      "(8, 224, 224)\n",
      "[[-0.29952498 -0.33422873 -0.30308323 ... -0.29680742 -0.31555897\n",
      "  -0.30019229]\n",
      " [-0.24010404 -0.29651552 -0.26370752 ... -0.30079244 -0.30620168\n",
      "  -0.27037944]\n",
      " [-0.23414166 -0.27801632 -0.32103442 ... -0.20577436 -0.23238558\n",
      "  -0.28333304]\n",
      " ...\n",
      " [-0.38242327 -0.35466782 -0.28857549 ... -0.08599648 -0.17179785\n",
      "  -0.23527363]\n",
      " [-0.37761189 -0.34562163 -0.30885214 ... -0.07786696 -0.19294045\n",
      "  -0.24060935]\n",
      " [-0.31712004 -0.31573134 -0.24807914 ...  0.05515483 -0.09941912\n",
      "  -0.18116352]]\n"
     ]
    }
   ],
   "source": [
    "print(np.shape(img_data))\n",
    "print(np.mean(img_data, 0))"
   ]
  },
  {
   "cell_type": "code",
   "execution_count": 8,
   "metadata": {
    "collapsed": true,
    "jupyter": {
     "outputs_hidden": true
    }
   },
   "outputs": [
    {
     "ename": "NameError",
     "evalue": "name 'img_data_reshaped' is not defined",
     "output_type": "error",
     "traceback": [
      "\u001b[0;31m---------------------------------------------------------------------------\u001b[0m",
      "\u001b[0;31mNameError\u001b[0m                                 Traceback (most recent call last)",
      "\u001b[0;32m<ipython-input-8-b11d62a9b85d>\u001b[0m in \u001b[0;36m<module>\u001b[0;34m\u001b[0m\n\u001b[0;32m----> 1\u001b[0;31m \u001b[0mimg_tensor\u001b[0m \u001b[0;34m=\u001b[0m \u001b[0mtorch\u001b[0m\u001b[0;34m.\u001b[0m\u001b[0mfrom_numpy\u001b[0m\u001b[0;34m(\u001b[0m\u001b[0mimg_data_reshaped\u001b[0m\u001b[0;34m)\u001b[0m\u001b[0;34m\u001b[0m\u001b[0;34m\u001b[0m\u001b[0m\n\u001b[0m",
      "\u001b[0;31mNameError\u001b[0m: name 'img_data_reshaped' is not defined"
     ]
    }
   ],
   "source": [
    "img_tensor = torch.from_numpy(img_data_reshaped)\n"
   ]
  },
  {
   "cell_type": "code",
   "execution_count": 32,
   "metadata": {
    "collapsed": true,
    "jupyter": {
     "outputs_hidden": true
    }
   },
   "outputs": [
    {
     "data": {
      "text/plain": [
       "27.37037777272728"
      ]
     },
     "execution_count": 32,
     "metadata": {},
     "output_type": "execute_result"
    }
   ],
   "source": [
    "dhs_clusters = pd.read_csv('dhs_clusters_paths.csv')\n",
    "dhs_clusters.iloc[10]['iwi']"
   ]
  },
  {
   "cell_type": "code",
   "execution_count": 33,
   "metadata": {
    "collapsed": true,
    "jupyter": {
     "outputs_hidden": true
    }
   },
   "outputs": [
    {
     "name": "stdout",
     "output_type": "stream",
     "text": [
      "[68.0963003  10.60905316 29.97392816 ... 24.40632559 59.88734425\n",
      " 58.38695137]\n",
      "['/cephyr/NOBACKUP/groups/globalpoverty1/data/dhs_tfrecords/angola_2006/00000.tfrecord.gz'\n",
      " '/cephyr/NOBACKUP/groups/globalpoverty1/data/dhs_tfrecords/angola_2006/00001.tfrecord.gz'\n",
      " '/cephyr/NOBACKUP/groups/globalpoverty1/data/dhs_tfrecords/angola_2006/00002.tfrecord.gz'\n",
      " ...\n",
      " '/cephyr/NOBACKUP/groups/globalpoverty1/data/dhs_tfrecords/zimbabwe_2015/00397.tfrecord.gz'\n",
      " '/cephyr/NOBACKUP/groups/globalpoverty1/data/dhs_tfrecords/zimbabwe_2015/00398.tfrecord.gz'\n",
      " '/cephyr/NOBACKUP/groups/globalpoverty1/data/dhs_tfrecords/zimbabwe_2015/00399.tfrecord.gz']\n"
     ]
    }
   ],
   "source": [
    "iwis = np.asarray(dhs_clusters.iloc[:,8])\n",
    "print(iwis)\n",
    "paths = np.asarray(dhs_clusters.iloc[:,9])\n",
    "print(paths)"
   ]
  },
  {
   "cell_type": "code",
   "execution_count": 7,
   "metadata": {},
   "outputs": [],
   "source": [
    "# BLUE\n",
    "# GREEN\n",
    "# RED\n",
    "# SWIR1\n",
    "# SWIR2\n",
    "# TEMP1\n",
    "# NIR\n",
    "# DMSP (used before and on 2015) Nightlights\n",
    "# VIIRS (used after 2015) Nightlights\n",
    "\n",
    "band_means = [0.06614169065743208,\n",
    "0.09635988259340068,\n",
    "0.11381173286380034,\n",
    "0.2403052018705142,\n",
    "0.169467635861788,\n",
    "281.2976763110107,\n",
    "0.24095368620456603,\n",
    "13.069690484896771,\n",
    "5.075756473790338]\n",
    "\n",
    "band_stds = [\n",
    "0.03512808462999218,\n",
    "0.050729950158437294,\n",
    "0.07239252056994558,\n",
    "0.12444550248291769,\n",
    "0.10850729467914068,\n",
    "71.28094889057179,\n",
    "0.09077465132496389,\n",
    "18.566259343422725,\n",
    "15.861609457767129\n",
    "]"
   ]
  },
  {
   "cell_type": "code",
   "execution_count": 9,
   "metadata": {},
   "outputs": [],
   "source": [
    "from timeit import default_timer as timer"
   ]
  },
  {
   "cell_type": "code",
   "execution_count": 4,
   "metadata": {},
   "outputs": [
    {
     "ename": "NameError",
     "evalue": "name 'loader' is not defined",
     "output_type": "error",
     "traceback": [
      "\u001b[0;31m---------------------------------------------------------------------------\u001b[0m",
      "\u001b[0;31mNameError\u001b[0m                                 Traceback (most recent call last)",
      "\u001b[0;32m<ipython-input-4-8d8168674e7b>\u001b[0m in \u001b[0;36m<module>\u001b[0;34m\u001b[0m\n\u001b[1;32m      2\u001b[0m \u001b[0;31m# SUUUUPER SLOW\u001b[0m\u001b[0;34m\u001b[0m\u001b[0;34m\u001b[0m\u001b[0;34m\u001b[0m\u001b[0m\n\u001b[1;32m      3\u001b[0m \u001b[0mstart\u001b[0m \u001b[0;34m=\u001b[0m \u001b[0mtimer\u001b[0m\u001b[0;34m(\u001b[0m\u001b[0;34m)\u001b[0m\u001b[0;34m\u001b[0m\u001b[0;34m\u001b[0m\u001b[0m\n\u001b[0;32m----> 4\u001b[0;31m \u001b[0;32mfor\u001b[0m \u001b[0mi\u001b[0m\u001b[0;34m,\u001b[0m \u001b[0;34m(\u001b[0m\u001b[0mimage\u001b[0m\u001b[0;34m,\u001b[0m \u001b[0mlabel\u001b[0m\u001b[0;34m)\u001b[0m \u001b[0;32min\u001b[0m \u001b[0menumerate\u001b[0m\u001b[0;34m(\u001b[0m\u001b[0mloader\u001b[0m\u001b[0;34m)\u001b[0m\u001b[0;34m:\u001b[0m\u001b[0;34m\u001b[0m\u001b[0;34m\u001b[0m\u001b[0m\n\u001b[0m\u001b[1;32m      5\u001b[0m     \u001b[0mend\u001b[0m \u001b[0;34m=\u001b[0m \u001b[0mtimer\u001b[0m\u001b[0;34m(\u001b[0m\u001b[0;34m)\u001b[0m\u001b[0;34m\u001b[0m\u001b[0;34m\u001b[0m\u001b[0m\n\u001b[1;32m      6\u001b[0m     \u001b[0mprint\u001b[0m\u001b[0;34m(\u001b[0m\u001b[0mend\u001b[0m \u001b[0;34m-\u001b[0m \u001b[0mstart\u001b[0m\u001b[0;34m)\u001b[0m\u001b[0;34m\u001b[0m\u001b[0;34m\u001b[0m\u001b[0m\n",
      "\u001b[0;31mNameError\u001b[0m: name 'loader' is not defined"
     ]
    }
   ],
   "source": [
    "\n",
    "\n",
    "# Attempt to get image and label from dataloader\n",
    "# SUUUUPER SLOW\n",
    "start = timer()\n",
    "for i, (image, label) in enumerate(loader):\n",
    "    end = timer()\n",
    "    print(end - start)\n",
    "    print(i, np.shape(image), label)\n",
    "    print()\n",
    "    \n",
    "    if i == 10:\n",
    "        break"
   ]
  },
  {
   "cell_type": "markdown",
   "metadata": {},
   "source": [
    "# Test MS_NL_ResNet18 with supervised dataset"
   ]
  },
  {
   "cell_type": "code",
   "execution_count": 2,
   "metadata": {},
   "outputs": [],
   "source": [
    "# HÄRIFRÅN JESPER\n",
    "\n",
    "import supervised_dataset\n",
    "import importlib\n",
    "importlib.reload(supervised_dataset)\n",
    "\n",
    "s_dataset = supervised_dataset.SupervisedDataset('dhs_clusters_paths.csv')#, print_times=True)"
   ]
  },
  {
   "cell_type": "code",
   "execution_count": 4,
   "metadata": {},
   "outputs": [],
   "source": [
    "# Create DataLoader\n",
    "loader = torch.utils.data.DataLoader(\n",
    "        s_dataset, batch_size=2,\n",
    ")"
   ]
  },
  {
   "cell_type": "markdown",
   "metadata": {},
   "source": [
    "### Import model"
   ]
  },
  {
   "cell_type": "code",
   "execution_count": 3,
   "metadata": {},
   "outputs": [
    {
     "name": "stdout",
     "output_type": "stream",
     "text": [
      "Defaulting to user installation because normal site-packages is not writeable\n",
      "Requirement already satisfied: pylibjpeg-libjpeg in /cephyr/users/benvin/Alvis/.local/lib/python3.8/site-packages (1.3.1)\n",
      "Collecting numpy>=1.22; python_version >= \"3.8\"\n",
      "  Using cached numpy-1.22.3-cp38-cp38-manylinux_2_17_x86_64.manylinux2014_x86_64.whl (16.8 MB)\n",
      "Installing collected packages: numpy\n",
      "\u001b[31mERROR: After October 2020 you may experience errors when installing or updating packages. This is because pip will change the way that it resolves dependency conflicts.\n",
      "\n",
      "We recommend you use --use-feature=2020-resolver to test your packages with the new resolver before it becomes the default.\n",
      "\n",
      "tensorflow 2.5.0 requires numpy~=1.19.2, but you'll have numpy 1.22.3 which is incompatible.\n",
      "torchvision 0.11.3 requires torch==1.10.2, but you'll have torch 1.8.1 which is incompatible.\n",
      "imageio 2.16.1 requires pillow>=8.3.2, but you'll have pillow 8.0.1 which is incompatible.\u001b[0m\n",
      "Successfully installed numpy-1.22.3\n",
      "\u001b[33mWARNING: You are using pip version 20.2.3; however, version 22.0.4 is available.\n",
      "You should consider upgrading via the '/apps/Arch/software/Python/3.8.6-GCCcore-10.2.0/bin/python3.8 -m pip install --upgrade pip' command.\u001b[0m\n"
     ]
    }
   ],
   "source": [
    "!pip install pylibjpeg-libjpeg"
   ]
  },
  {
   "cell_type": "code",
   "execution_count": 6,
   "metadata": {},
   "outputs": [],
   "source": [
    "#!module spider torchvision\n",
    "!module load torchvision/0.9.1-fosscuda-2020b-PyTorch-1.8.1"
   ]
  },
  {
   "cell_type": "code",
   "execution_count": 2,
   "metadata": {},
   "outputs": [
    {
     "name": "stderr",
     "output_type": "stream",
     "text": [
      "/cephyr/users/benvin/Alvis/.local/lib/python3.8/site-packages/torchvision/io/image.py:11: UserWarning: Failed to load image Python extension: /cephyr/users/benvin/Alvis/.local/lib/python3.8/site-packages/torchvision/image.so: undefined symbol: _ZNK3c106IValue23reportToTensorTypeErrorEv\n",
      "  warn(f\"Failed to load image Python extension: {e}\")\n"
     ]
    }
   ],
   "source": [
    "# Try to import model\n",
    "import sys\n",
    "sys.path.insert(0, '/cephyr/NOBACKUP/groups/globalpoverty1/JesperBenjamin/geography-aware-ssl/moco_fmow/moco')\n",
    "from ms_nl_resnet import MS_NL_ResNet18\n",
    "#importlib.reload(ms_nl_resnet)\n",
    "#model = MS_NL_ResNet18(num_classes=1)\n",
    "#print(model)"
   ]
  },
  {
   "cell_type": "markdown",
   "metadata": {},
   "source": [
    "### Pass batch of images through model"
   ]
  },
  {
   "cell_type": "code",
   "execution_count": 10,
   "metadata": {},
   "outputs": [
    {
     "name": "stdout",
     "output_type": "stream",
     "text": [
      "2.2720611399854533\n",
      "0 torch.Size([2, 8, 224, 224]) tensor([68.0963, 10.6091], dtype=torch.float64)\n",
      "\n",
      "tensor([[0.0648],\n",
      "        [0.0401]], grad_fn=<ReluBackward0>)\n"
     ]
    }
   ],
   "source": [
    "# Try to pass image through model and inspect output\n",
    "model = MS_NL_ResNet18(num_classes=1, last_layer_activation=torch.nn.ReLU())\n",
    "\n",
    "start = timer()\n",
    "for i, (image, label) in enumerate(loader):\n",
    "    end = timer()\n",
    "    print(end - start)\n",
    "    print(i, np.shape(image), label)\n",
    "    print()\n",
    "    \n",
    "    if i == 0:\n",
    "        break\n",
    "output = model(image.float())\n",
    "\n",
    "print(output)\n",
    "# NL needs to be fed every 8th channel instead of only last"
   ]
  },
  {
   "cell_type": "markdown",
   "metadata": {},
   "source": [
    "### Load model from checkpoint and pass batch of images through"
   ]
  },
  {
   "cell_type": "code",
   "execution_count": 38,
   "metadata": {},
   "outputs": [
    {
     "data": {
      "text/plain": [
       "<All keys matched successfully>"
      ]
     },
     "execution_count": 38,
     "metadata": {},
     "output_type": "execute_result"
    }
   ],
   "source": [
    "# THIS WORKS, EASIER TO LOAD CHECKPOINT FOR ENTIRE MODEL OUTSIDE THE MODEL CLASS INSTEAD OF \n",
    "# LOADING FOR MS AND NL RESNETS SEPARATELY IN \"ms_nl_resnet.py\"\n",
    "\n",
    "model_check = MS_NL_ResNet18(num_classes=1)\n",
    "\n",
    "checkpoint_path = 'checkpoint_0199.pth.tar'\n",
    "checkpoint = torch.load(checkpoint_path, map_location='cpu')\n",
    "        \n",
    "# Get size of last layer in checkpoint model in order to load weights smoothly\n",
    "#checkpoint_output_size = next(reversed(checkpoint['state_dict'].items()))[1].size()[0]\n",
    "checkpoint_output_size = 1\n",
    "\n",
    "# Extract weights of key encoder from MoCo pretraining\n",
    "checkpoint_dict = dict()\n",
    "for key in checkpoint['state_dict'].keys():\n",
    "    #if \"module.ms_resnet18.\" in key:\n",
    "    resnet_key=key.replace(\"module.\", \"\")\n",
    "    #resnet_key=resnet_key.replace(\"ms_resnet18.\", \"\")\n",
    "    #resnet_key=key\n",
    "    checkpoint_dict[resnet_key]=checkpoint['state_dict'][key]\n",
    "    #print(resnet_key, checkpoint_dict[resnet_key].size(), model.state_dict()[resnet_key].size())\n",
    "    #print\n",
    "            \n",
    "model_check.load_state_dict(checkpoint_dict)"
   ]
  },
  {
   "cell_type": "code",
   "execution_count": 39,
   "metadata": {},
   "outputs": [
    {
     "name": "stdout",
     "output_type": "stream",
     "text": [
      "0.20778581898775883\n",
      "0 torch.Size([2, 8, 224, 224]) tensor([68.0963, 10.6091], dtype=torch.float64)\n",
      "\n",
      "tensor([[0.],\n",
      "        [0.]], grad_fn=<ReluBackward0>)\n"
     ]
    }
   ],
   "source": [
    "# Try passing images through model after loading checkpoint\n",
    "start = timer()\n",
    "for i, (image, label) in enumerate(loader):\n",
    "    end = timer()\n",
    "    print(end - start)\n",
    "    print(i, np.shape(image), label)\n",
    "    print()\n",
    "    \n",
    "    if i == 0:\n",
    "        break\n",
    "output = model_check(image.float())\n",
    "\n",
    "print(output)"
   ]
  },
  {
   "cell_type": "code",
   "execution_count": null,
   "metadata": {},
   "outputs": [],
   "source": [
    "for key in checkpoint['state_dict'].keys():\n",
    "    print(key)"
   ]
  },
  {
   "cell_type": "code",
   "execution_count": 9,
   "metadata": {
    "collapsed": true,
    "jupyter": {
     "outputs_hidden": true
    }
   },
   "outputs": [
    {
     "name": "stdout",
     "output_type": "stream",
     "text": [
      "PhysicalDevice(name='/physical_device:GPU:0', device_type='GPU')\n"
     ]
    },
    {
     "ename": "RuntimeError",
     "evalue": "Physical devices cannot be modified after being initialized",
     "output_type": "error",
     "traceback": [
      "\u001b[0;31m---------------------------------------------------------------------------\u001b[0m",
      "\u001b[0;31mRuntimeError\u001b[0m                              Traceback (most recent call last)",
      "\u001b[0;32m<ipython-input-9-b8c3dd46f790>\u001b[0m in \u001b[0;36m<module>\u001b[0;34m\u001b[0m\n\u001b[1;32m      3\u001b[0m \u001b[0;32mfor\u001b[0m \u001b[0mgpu\u001b[0m \u001b[0;32min\u001b[0m \u001b[0mgpus\u001b[0m\u001b[0;34m:\u001b[0m\u001b[0;34m\u001b[0m\u001b[0;34m\u001b[0m\u001b[0m\n\u001b[1;32m      4\u001b[0m     \u001b[0mprint\u001b[0m\u001b[0;34m(\u001b[0m\u001b[0mgpu\u001b[0m\u001b[0;34m)\u001b[0m\u001b[0;34m\u001b[0m\u001b[0;34m\u001b[0m\u001b[0m\n\u001b[0;32m----> 5\u001b[0;31m     \u001b[0mtf\u001b[0m\u001b[0;34m.\u001b[0m\u001b[0mconfig\u001b[0m\u001b[0;34m.\u001b[0m\u001b[0mexperimental\u001b[0m\u001b[0;34m.\u001b[0m\u001b[0mset_memory_growth\u001b[0m\u001b[0;34m(\u001b[0m\u001b[0mgpu\u001b[0m\u001b[0;34m,\u001b[0m \u001b[0;32mTrue\u001b[0m\u001b[0;34m)\u001b[0m\u001b[0;34m\u001b[0m\u001b[0;34m\u001b[0m\u001b[0m\n\u001b[0m",
      "\u001b[0;32m/apps/Arch/software/TensorFlow/2.5.0-fosscuda-2020b/lib/python3.8/site-packages/tensorflow/python/framework/config.py\u001b[0m in \u001b[0;36mset_memory_growth\u001b[0;34m(device, enable)\u001b[0m\n\u001b[1;32m    659\u001b[0m     \u001b[0mRuntimeError\u001b[0m\u001b[0;34m:\u001b[0m \u001b[0mRuntime\u001b[0m \u001b[0;32mis\u001b[0m \u001b[0malready\u001b[0m \u001b[0minitialized\u001b[0m\u001b[0;34m.\u001b[0m\u001b[0;34m\u001b[0m\u001b[0;34m\u001b[0m\u001b[0m\n\u001b[1;32m    660\u001b[0m   \"\"\"\n\u001b[0;32m--> 661\u001b[0;31m   \u001b[0mcontext\u001b[0m\u001b[0;34m.\u001b[0m\u001b[0mcontext\u001b[0m\u001b[0;34m(\u001b[0m\u001b[0;34m)\u001b[0m\u001b[0;34m.\u001b[0m\u001b[0mset_memory_growth\u001b[0m\u001b[0;34m(\u001b[0m\u001b[0mdevice\u001b[0m\u001b[0;34m,\u001b[0m \u001b[0menable\u001b[0m\u001b[0;34m)\u001b[0m\u001b[0;34m\u001b[0m\u001b[0;34m\u001b[0m\u001b[0m\n\u001b[0m\u001b[1;32m    662\u001b[0m \u001b[0;34m\u001b[0m\u001b[0m\n\u001b[1;32m    663\u001b[0m \u001b[0;34m\u001b[0m\u001b[0m\n",
      "\u001b[0;32m/apps/Arch/software/TensorFlow/2.5.0-fosscuda-2020b/lib/python3.8/site-packages/tensorflow/python/eager/context.py\u001b[0m in \u001b[0;36mset_memory_growth\u001b[0;34m(self, dev, enable)\u001b[0m\n\u001b[1;32m   1478\u001b[0m \u001b[0;34m\u001b[0m\u001b[0m\n\u001b[1;32m   1479\u001b[0m     \u001b[0;32mif\u001b[0m \u001b[0mself\u001b[0m\u001b[0;34m.\u001b[0m\u001b[0m_context_handle\u001b[0m \u001b[0;32mis\u001b[0m \u001b[0;32mnot\u001b[0m \u001b[0;32mNone\u001b[0m\u001b[0;34m:\u001b[0m\u001b[0;34m\u001b[0m\u001b[0;34m\u001b[0m\u001b[0m\n\u001b[0;32m-> 1480\u001b[0;31m       raise RuntimeError(\n\u001b[0m\u001b[1;32m   1481\u001b[0m           \"Physical devices cannot be modified after being initialized\")\n\u001b[1;32m   1482\u001b[0m \u001b[0;34m\u001b[0m\u001b[0m\n",
      "\u001b[0;31mRuntimeError\u001b[0m: Physical devices cannot be modified after being initialized"
     ]
    }
   ],
   "source": [
    "#import tensorflow as tf\n",
    "gpus = tf.config.experimental.list_physical_devices('GPU')\n",
    "for gpu in gpus:\n",
    "    print(gpu)\n",
    "    tf.config.experimental.set_memory_growth(gpu, True)"
   ]
  },
  {
   "cell_type": "markdown",
   "metadata": {},
   "source": [
    "# TRAINING LOOP"
   ]
  },
  {
   "cell_type": "code",
   "execution_count": 4,
   "metadata": {},
   "outputs": [],
   "source": [
    "import tensorflow as tf\n",
    "import numpy as np\n",
    "import pandas as pd \n",
    "import matplotlib.pyplot as plt\n",
    "import torch\n",
    "%matplotlib inline"
   ]
  },
  {
   "cell_type": "code",
   "execution_count": 3,
   "metadata": {},
   "outputs": [
    {
     "name": "stderr",
     "output_type": "stream",
     "text": [
      "/cephyr/users/benvin/Alvis/.local/lib/python3.8/site-packages/torchvision/io/image.py:11: UserWarning: Failed to load image Python extension: /cephyr/users/benvin/Alvis/.local/lib/python3.8/site-packages/torchvision/image.so: undefined symbol: _ZNK3c106IValue23reportToTensorTypeErrorEv\n",
      "  warn(f\"Failed to load image Python extension: {e}\")\n"
     ]
    }
   ],
   "source": [
    "# Try to import model\n",
    "import sys\n",
    "sys.path.insert(0, '/cephyr/NOBACKUP/groups/globalpoverty1/JesperBenjamin/geography-aware-ssl/moco_fmow/moco')\n",
    "from ms_nl_resnet import MS_NL_ResNet18\n",
    "#importlib.reload(ms_nl_resnet)\n",
    "#model = MS_NL_ResNet18(num_classes=1)\n",
    "#print(model)"
   ]
  },
  {
   "cell_type": "code",
   "execution_count": 26,
   "metadata": {},
   "outputs": [
    {
     "data": {
      "text/plain": [
       "<module 'supervised_dataset' from '/cephyr/NOBACKUP/groups/globalpoverty1/JesperBenjamin/Supervised/supervised_dataset.py'>"
      ]
     },
     "execution_count": 26,
     "metadata": {},
     "output_type": "execute_result"
    }
   ],
   "source": [
    "import supervised_dataset\n",
    "import importlib\n",
    "importlib.reload(supervised_dataset)"
   ]
  },
  {
   "cell_type": "code",
   "execution_count": 36,
   "metadata": {},
   "outputs": [
    {
     "name": "stdout",
     "output_type": "stream",
     "text": [
      "['/device:GPU:0', '/device:GPU:1', '/device:GPU:2', '/device:GPU:3']\n"
     ]
    }
   ],
   "source": [
    "from tensorflow.python.client import device_lib\n",
    "\n",
    "def get_available_gpus():\n",
    "    local_device_protos = device_lib.list_local_devices()\n",
    "    return [x.name for x in local_device_protos if x.device_type == 'GPU']\n",
    "\n",
    "device = get_available_gpus()\n",
    "print(device)\n",
    "#print(tf.config.experimental.get_memory_info(device))"
   ]
  },
  {
   "cell_type": "code",
   "execution_count": 9,
   "metadata": {},
   "outputs": [
    {
     "name": "stdout",
     "output_type": "stream",
     "text": [
      "before creating dataloader\n",
      "Mon Apr 25 17:47:38 2022       \n",
      "+-----------------------------------------------------------------------------+\n",
      "| NVIDIA-SMI 510.39.01    Driver Version: 510.39.01    CUDA Version: 11.6     |\n",
      "|-------------------------------+----------------------+----------------------+\n",
      "| GPU  Name        Persistence-M| Bus-Id        Disp.A | Volatile Uncorr. ECC |\n",
      "| Fan  Temp  Perf  Pwr:Usage/Cap|         Memory-Usage | GPU-Util  Compute M. |\n",
      "|                               |                      |               MIG M. |\n",
      "|===============================+======================+======================|\n",
      "|   0  Tesla T4            On   | 00000000:2F:00.0 Off |                    0 |\n",
      "| N/A   39C    P0    27W /  70W |    663MiB / 15360MiB |      0%      Default |\n",
      "|                               |                      |                  N/A |\n",
      "+-------------------------------+----------------------+----------------------+\n",
      "                                                                               \n",
      "+-----------------------------------------------------------------------------+\n",
      "| Processes:                                                                  |\n",
      "|  GPU   GI   CI        PID   Type   Process name                  GPU Memory |\n",
      "|        ID   ID                                                   Usage      |\n",
      "|=============================================================================|\n",
      "|    0   N/A  N/A   2669774      C   ...core-10.2.0/bin/python3.8      661MiB |\n",
      "+-----------------------------------------------------------------------------+\n",
      "BEFORE ENUMERATING LOADER\n",
      "torch.cuda.memory_allocated: 0.000000GB\n",
      "torch.cuda.memory_reserved: 0.000000GB\n",
      "torch.cuda.max_memory_reserved: 0.000000GB\n",
      "Mon Apr 25 17:47:38 2022       \n",
      "+-----------------------------------------------------------------------------+\n",
      "| NVIDIA-SMI 510.39.01    Driver Version: 510.39.01    CUDA Version: 11.6     |\n",
      "|-------------------------------+----------------------+----------------------+\n",
      "| GPU  Name        Persistence-M| Bus-Id        Disp.A | Volatile Uncorr. ECC |\n",
      "| Fan  Temp  Perf  Pwr:Usage/Cap|         Memory-Usage | GPU-Util  Compute M. |\n",
      "|                               |                      |               MIG M. |\n",
      "|===============================+======================+======================|\n",
      "|   0  Tesla T4            On   | 00000000:2F:00.0 Off |                    0 |\n",
      "| N/A   39C    P0    27W /  70W |    663MiB / 15360MiB |      0%      Default |\n",
      "|                               |                      |                  N/A |\n",
      "+-------------------------------+----------------------+----------------------+\n",
      "                                                                               \n",
      "+-----------------------------------------------------------------------------+\n",
      "| Processes:                                                                  |\n",
      "|  GPU   GI   CI        PID   Type   Process name                  GPU Memory |\n",
      "|        ID   ID                                                   Usage      |\n",
      "|=============================================================================|\n",
      "|    0   N/A  N/A   2669774      C   ...core-10.2.0/bin/python3.8      661MiB |\n",
      "+-----------------------------------------------------------------------------+\n",
      "TF usage:  {'current': 0, 'peak': 0}\n",
      "\n",
      "\n",
      "AFTER ENUMERATING LOADER\n",
      "Create dataset:  0.014368353004101664\n",
      "Parse single example:  0.08001721499022096\n",
      "Reshape bands:  0.0012442540028132498\n",
      "Normalize and convert to numpy:  0.004779353039339185\n",
      "Reshape and convert to tensor:  0.000773424981161952\n",
      "\n",
      "Create dataset:  0.03288915898883715\n",
      "Parse single example:  0.07900044100824744\n",
      "Reshape bands:  0.001217894023284316\n",
      "Normalize and convert to numpy:  0.0038486719713546336\n",
      "Reshape and convert to tensor:  0.00047054101014509797\n",
      "\n",
      "Create dataset:  0.005212659947574139\n",
      "Parse single example:  0.07660444400971755\n",
      "Reshape bands:  0.001118726038839668\n",
      "Normalize and convert to numpy:  0.0037122609792277217\n",
      "Reshape and convert to tensor:  0.0004815499996766448\n",
      "\n",
      "Create dataset:  0.006787205988075584\n",
      "Parse single example:  0.07117276202188805\n",
      "Reshape bands:  0.0011382129741832614\n",
      "Normalize and convert to numpy:  0.0030203029746189713\n",
      "Reshape and convert to tensor:  0.0004960590158589184\n",
      "\n",
      "Create dataset:  0.00515320198610425\n",
      "Parse single example:  0.07165050000185147\n",
      "Reshape bands:  0.0012523870100267231\n",
      "Normalize and convert to numpy:  0.003023413009941578\n",
      "Reshape and convert to tensor:  0.00046278798254206777\n",
      "\n",
      "Create dataset:  0.005180526990443468\n",
      "Parse single example:  0.07352095597889274\n",
      "Reshape bands:  0.0012386739836074412\n",
      "Normalize and convert to numpy:  0.003078092006035149\n",
      "Reshape and convert to tensor:  0.000527263036929071\n",
      "\n",
      "Create dataset:  0.010826756013557315\n",
      "Parse single example:  0.08450448600342497\n",
      "Reshape bands:  0.0011644809856079519\n",
      "Normalize and convert to numpy:  0.0033107009949162602\n",
      "Reshape and convert to tensor:  0.00046925601782277226\n",
      "\n",
      "Create dataset:  0.005143143993336707\n",
      "Parse single example:  0.07481596397701651\n",
      "Reshape bands:  0.0012606169912032783\n",
      "Normalize and convert to numpy:  0.0034811640507541597\n",
      "Reshape and convert to tensor:  0.00046756298979744315\n",
      "\n",
      "torch.cuda.memory_allocated: 0.000000GB\n",
      "torch.cuda.memory_reserved: 0.000000GB\n",
      "torch.cuda.max_memory_reserved: 0.000000GB\n",
      "\n",
      "TF usage:  {'current': 0, 'peak': 0}\n",
      "\n"
     ]
    }
   ],
   "source": [
    "# GPU memory test, DataLoader/Dataset is taking too much memory on GPU\n",
    "print(\"before creating dataloader\")\n",
    "!nvidia-smi\n",
    "\n",
    "train_set = supervised_dataset.SupervisedDataset('dhs_clusters_paths_small.csv', print_times=True)\n",
    "train_loader = torch.utils.data.DataLoader(\n",
    "        train_set, batch_size=8,\n",
    "        drop_last=True\n",
    ")\n",
    "\n",
    "print(\"BEFORE ENUMERATING LOADER\")\n",
    "print(\"torch.cuda.memory_allocated: %fGB\"%(torch.cuda.memory_allocated(0)/1024/1024/1024))\n",
    "print(\"torch.cuda.memory_reserved: %fGB\"%(torch.cuda.memory_reserved(0)/1024/1024/1024))\n",
    "print(\"torch.cuda.max_memory_reserved: %fGB\"%(torch.cuda.max_memory_reserved(0)/1024/1024/1024))\n",
    "\n",
    "!nvidia-smi\n",
    "\n",
    "print(\"TF usage: \", tf.config.experimental.get_memory_info(device))\n",
    "\n",
    "print()\n",
    "print()\n",
    "print(\"AFTER ENUMERATING LOADER\")\n",
    "\n",
    "for i, (images, labels) in enumerate(train_loader):\n",
    "    print(\"torch.cuda.memory_allocated: %fGB\"%(torch.cuda.memory_allocated(0)/1024/1024/1024))\n",
    "    print(\"torch.cuda.memory_reserved: %fGB\"%(torch.cuda.memory_reserved(0)/1024/1024/1024))\n",
    "    print(\"torch.cuda.max_memory_reserved: %fGB\"%(torch.cuda.max_memory_reserved(0)/1024/1024/1024))\n",
    "    \n",
    "    #!nvidia-smi\n",
    "    \n",
    "    print()\n",
    "    print(\"TF usage: \", tf.config.experimental.get_memory_info(device))\n",
    "    print()\n",
    "    \n",
    "    break"
   ]
  },
  {
   "cell_type": "code",
   "execution_count": 7,
   "metadata": {},
   "outputs": [
    {
     "name": "stdout",
     "output_type": "stream",
     "text": [
      "torch.cuda.memory_allocated: 0.000000GB\n",
      "torch.cuda.memory_reserved: 0.000000GB\n",
      "torch.cuda.max_memory_reserved: 0.000000GB\n"
     ]
    }
   ],
   "source": [
    "torch.cuda.device_count()\n",
    "print(\"torch.cuda.memory_allocated: %fGB\"%(torch.cuda.memory_allocated(0)/1024/1024/1024))\n",
    "print(\"torch.cuda.memory_reserved: %fGB\"%(torch.cuda.memory_reserved(0)/1024/1024/1024))\n",
    "print(\"torch.cuda.max_memory_reserved: %fGB\"%(torch.cuda.max_memory_reserved(0)/1024/1024/1024))"
   ]
  },
  {
   "cell_type": "code",
   "execution_count": 6,
   "metadata": {},
   "outputs": [
    {
     "name": "stdout",
     "output_type": "stream",
     "text": [
      "Mon Apr 25 17:45:14 2022       \n",
      "+-----------------------------------------------------------------------------+\n",
      "| NVIDIA-SMI 510.39.01    Driver Version: 510.39.01    CUDA Version: 11.6     |\n",
      "|-------------------------------+----------------------+----------------------+\n",
      "| GPU  Name        Persistence-M| Bus-Id        Disp.A | Volatile Uncorr. ECC |\n",
      "| Fan  Temp  Perf  Pwr:Usage/Cap|         Memory-Usage | GPU-Util  Compute M. |\n",
      "|                               |                      |               MIG M. |\n",
      "|===============================+======================+======================|\n",
      "|   0  Tesla T4            On   | 00000000:2F:00.0 Off |                    0 |\n",
      "| N/A   38C    P0    27W /  70W |    663MiB / 15360MiB |      0%      Default |\n",
      "|                               |                      |                  N/A |\n",
      "+-------------------------------+----------------------+----------------------+\n",
      "                                                                               \n",
      "+-----------------------------------------------------------------------------+\n",
      "| Processes:                                                                  |\n",
      "|  GPU   GI   CI        PID   Type   Process name                  GPU Memory |\n",
      "|        ID   ID                                                   Usage      |\n",
      "|=============================================================================|\n",
      "|    0   N/A  N/A   2669774      C   ...core-10.2.0/bin/python3.8      661MiB |\n",
      "+-----------------------------------------------------------------------------+\n"
     ]
    }
   ],
   "source": [
    "!nvidia-smi"
   ]
  },
  {
   "cell_type": "code",
   "execution_count": 12,
   "metadata": {},
   "outputs": [
    {
     "name": "stdout",
     "output_type": "stream",
     "text": [
      "CUDA:  True\n",
      "\n"
     ]
    }
   ],
   "source": [
    "from tensorboardX import SummaryWriter\n",
    "import time\n",
    "import torch.distributed as dist\n",
    "\n",
    "#del train_set, train_loader, model, gpu, criterion, epoch, writer, optimizer\n",
    "torch.cuda.empty_cache()\n",
    "\n",
    "train_set = supervised_dataset.SupervisedDataset('dhs_clusters_paths_small.csv')#, print_times=True)\n",
    "train_loader = torch.utils.data.DataLoader(\n",
    "        train_set, batch_size=2,\n",
    "        drop_last=True\n",
    ")\n",
    "\n",
    "val_set = supervised_dataset.SupervisedDataset('dhs_clusters_paths_small.csv')#, print_times=True)\n",
    "val_loader = torch.utils.data.DataLoader(\n",
    "        val_set, batch_size=2,\n",
    "        drop_last=True\n",
    ")\n",
    "\n",
    "model = MS_NL_ResNet18(num_classes=1)\n",
    "\n",
    "print(\"CUDA: \", torch.cuda.is_available())\n",
    "\n",
    "gpu = 0\n",
    "\n",
    "criterion = torch.nn.MSELoss().cuda(gpu)\n",
    "\n",
    "epoch=1\n",
    "\n",
    "writer = SummaryWriter()\n",
    "\n",
    "optimizer = torch.optim.Adam(model.parameters(), lr=0.002)\n",
    "\n",
    "############\n",
    "torch.cuda.set_device(gpu)\n",
    "model.cuda(gpu)\n",
    "\n",
    "\n",
    "# DISTRiBUTED\n",
    "#dist.init_process_group(backend='nccl', init_method='tcp://127.0.0.1:8893',\n",
    "#                                world_size=1, rank=0)\n",
    "\n",
    "#model.cuda()\n",
    "#model = torch.nn.parallel.DistributedDataParallel(model)\n",
    "\n",
    "#train_sampler = torch.utils.data.distributed.DistributedSampler(\n",
    "#            train_dataset)\n",
    "print()\n",
    "\n",
    "\n"
   ]
  },
  {
   "cell_type": "code",
   "execution_count": 24,
   "metadata": {},
   "outputs": [
    {
     "data": {
      "text/html": [
       "<div>\n",
       "<style scoped>\n",
       "    .dataframe tbody tr th:only-of-type {\n",
       "        vertical-align: middle;\n",
       "    }\n",
       "\n",
       "    .dataframe tbody tr th {\n",
       "        vertical-align: top;\n",
       "    }\n",
       "\n",
       "    .dataframe thead th {\n",
       "        text-align: right;\n",
       "    }\n",
       "</style>\n",
       "<table border=\"1\" class=\"dataframe\">\n",
       "  <thead>\n",
       "    <tr style=\"text-align: right;\">\n",
       "      <th></th>\n",
       "      <th>country</th>\n",
       "      <th>year</th>\n",
       "      <th>lat</th>\n",
       "      <th>lon</th>\n",
       "      <th>GID_1</th>\n",
       "      <th>GID_2</th>\n",
       "      <th>households</th>\n",
       "      <th>rural</th>\n",
       "      <th>iwi</th>\n",
       "      <th>file</th>\n",
       "    </tr>\n",
       "  </thead>\n",
       "  <tbody>\n",
       "    <tr>\n",
       "      <th>1</th>\n",
       "      <td>angola</td>\n",
       "      <td>2006</td>\n",
       "      <td>-12.361700</td>\n",
       "      <td>14.778201</td>\n",
       "      <td>AGO.2</td>\n",
       "      <td>AGO.2.2</td>\n",
       "      <td>19</td>\n",
       "      <td>1</td>\n",
       "      <td>10.609053</td>\n",
       "      <td>/cephyr/NOBACKUP/groups/globalpoverty1/data/dh...</td>\n",
       "    </tr>\n",
       "    <tr>\n",
       "      <th>3</th>\n",
       "      <td>angola</td>\n",
       "      <td>2006</td>\n",
       "      <td>-9.991311</td>\n",
       "      <td>14.898295</td>\n",
       "      <td>AGO.7</td>\n",
       "      <td>AGO.7.5</td>\n",
       "      <td>1</td>\n",
       "      <td>1</td>\n",
       "      <td>7.704135</td>\n",
       "      <td>/cephyr/NOBACKUP/groups/globalpoverty1/data/dh...</td>\n",
       "    </tr>\n",
       "    <tr>\n",
       "      <th>5</th>\n",
       "      <td>angola</td>\n",
       "      <td>2006</td>\n",
       "      <td>-11.346350</td>\n",
       "      <td>15.073653</td>\n",
       "      <td>AGO.7</td>\n",
       "      <td>AGO.7.12</td>\n",
       "      <td>24</td>\n",
       "      <td>1</td>\n",
       "      <td>10.653362</td>\n",
       "      <td>/cephyr/NOBACKUP/groups/globalpoverty1/data/dh...</td>\n",
       "    </tr>\n",
       "    <tr>\n",
       "      <th>7</th>\n",
       "      <td>angola</td>\n",
       "      <td>2006</td>\n",
       "      <td>-12.747312</td>\n",
       "      <td>13.607121</td>\n",
       "      <td>AGO.2</td>\n",
       "      <td>AGO.2.3</td>\n",
       "      <td>22</td>\n",
       "      <td>0</td>\n",
       "      <td>66.059021</td>\n",
       "      <td>/cephyr/NOBACKUP/groups/globalpoverty1/data/dh...</td>\n",
       "    </tr>\n",
       "    <tr>\n",
       "      <th>9</th>\n",
       "      <td>angola</td>\n",
       "      <td>2006</td>\n",
       "      <td>-13.130185</td>\n",
       "      <td>13.109428</td>\n",
       "      <td>AGO.2</td>\n",
       "      <td>AGO.2.1</td>\n",
       "      <td>24</td>\n",
       "      <td>1</td>\n",
       "      <td>20.937783</td>\n",
       "      <td>/cephyr/NOBACKUP/groups/globalpoverty1/data/dh...</td>\n",
       "    </tr>\n",
       "  </tbody>\n",
       "</table>\n",
       "</div>"
      ],
      "text/plain": [
       "  country  year        lat        lon  GID_1     GID_2  households  rural  \\\n",
       "1  angola  2006 -12.361700  14.778201  AGO.2   AGO.2.2          19      1   \n",
       "3  angola  2006  -9.991311  14.898295  AGO.7   AGO.7.5           1      1   \n",
       "5  angola  2006 -11.346350  15.073653  AGO.7  AGO.7.12          24      1   \n",
       "7  angola  2006 -12.747312  13.607121  AGO.2   AGO.2.3          22      0   \n",
       "9  angola  2006 -13.130185  13.109428  AGO.2   AGO.2.1          24      1   \n",
       "\n",
       "         iwi                                               file  \n",
       "1  10.609053  /cephyr/NOBACKUP/groups/globalpoverty1/data/dh...  \n",
       "3   7.704135  /cephyr/NOBACKUP/groups/globalpoverty1/data/dh...  \n",
       "5  10.653362  /cephyr/NOBACKUP/groups/globalpoverty1/data/dh...  \n",
       "7  66.059021  /cephyr/NOBACKUP/groups/globalpoverty1/data/dh...  \n",
       "9  20.937783  /cephyr/NOBACKUP/groups/globalpoverty1/data/dh...  "
      ]
     },
     "execution_count": 24,
     "metadata": {},
     "output_type": "execute_result"
    }
   ],
   "source": [
    "csv = pd.read_csv('dhs_clusters_paths_small.csv', header=0)\n",
    "csv.head()\n",
    "\n",
    "indices = np.asarray([1, 3, 5, 7, 9])\n",
    "\n",
    "csv2 = csv.iloc[indices]\n",
    "csv2.head()"
   ]
  },
  {
   "cell_type": "code",
   "execution_count": 27,
   "metadata": {},
   "outputs": [
    {
     "name": "stdout",
     "output_type": "stream",
     "text": [
      "torch.Size([2, 8, 224, 224]) 0\n",
      "torch.Size([2, 8, 224, 224]) 1\n"
     ]
    }
   ],
   "source": [
    "asd_set = supervised_dataset.SupervisedDataset('dhs_clusters_paths_small.csv', indices)#, print_times=True)\n",
    "asd_loader = torch.utils.data.DataLoader(\n",
    "        asd_set, batch_size=2,\n",
    "        drop_last=True\n",
    ")\n",
    "\n",
    "for i, (images, labels) in enumerate(asd_loader):\n",
    "    print(images.size(), i)"
   ]
  },
  {
   "cell_type": "code",
   "execution_count": null,
   "metadata": {},
   "outputs": [],
   "source": []
  },
  {
   "cell_type": "code",
   "execution_count": 32,
   "metadata": {},
   "outputs": [
    {
     "data": {
      "text/plain": [
       "{'test': array([    0,     2,     3, ..., 56728, 56730, 56735], dtype=int32),\n",
       " 'val': array([   14,    17,    18, ..., 56679, 56680, 56703], dtype=int32),\n",
       " 'train': array([    1,     4,     5, ..., 56738, 56739, 56740], dtype=int32)}"
      ]
     },
     "execution_count": 32,
     "metadata": {},
     "output_type": "execute_result"
    }
   ],
   "source": [
    "import pickle as pkl\n",
    "\n",
    "folds_path = '/cephyr/NOBACKUP/groups/globalpoverty1/JesperBenjamin/CreateFolds/new_dhs_incountry_folds.pkl'\n",
    "\n",
    "with open(folds_path, 'rb') as handle:\n",
    "    folds = pickle.load(handle)\n",
    "    \n",
    "folds['A']"
   ]
  },
  {
   "cell_type": "code",
   "execution_count": 10,
   "metadata": {},
   "outputs": [],
   "source": [
    "def validate(model, loss_fn, val_loader, device):\n",
    "    val_loss_cum = 0\n",
    "    model.eval()\n",
    "    with torch.no_grad():\n",
    "        for batch_index, (x, y) in enumerate(val_loader, 1):\n",
    "            inputs, labels = x.cuda(device), y.cuda(device)\n",
    "            z = model.forward(inputs)\n",
    "            z = torch.squeeze(z)\n",
    "\n",
    "            batch_loss = loss_fn(z, labels)\n",
    "            val_loss_cum += batch_loss.item()\n",
    "\n",
    "    return val_loss_cum/len(val_loader)"
   ]
  },
  {
   "cell_type": "code",
   "execution_count": 13,
   "metadata": {},
   "outputs": [
    {
     "name": "stdout",
     "output_type": "stream",
     "text": [
      "batch:  0\n",
      "\n",
      "LOSS:  tensor(2373.7092, device='cuda:0', grad_fn=<MseLossBackward>)\n",
      "0.22944331169128418\n",
      "batch:  1\n",
      "\n",
      "LOSS:  tensor(410.8382, device='cuda:0', grad_fn=<MseLossBackward>)\n",
      "0.44634032249450684\n",
      "batch:  2\n",
      "\n",
      "LOSS:  tensor(68.1357, device='cuda:0', grad_fn=<MseLossBackward>)\n",
      "0.655386209487915\n",
      "batch:  3\n",
      "\n",
      "LOSS:  tensor(3406.9656, device='cuda:0', grad_fn=<MseLossBackward>)\n",
      "0.8648507595062256\n",
      "batch:  4\n",
      "\n",
      "LOSS:  tensor(1336.7583, device='cuda:0', grad_fn=<MseLossBackward>)\n",
      "1.0746738910675049\n",
      "batch:  5\n",
      "\n",
      "LOSS:  tensor(138.1479, device='cuda:0', grad_fn=<MseLossBackward>)\n",
      "1.2936344146728516\n",
      "batch:  6\n",
      "\n",
      "LOSS:  tensor(22.6257, device='cuda:0', grad_fn=<MseLossBackward>)\n",
      "1.5022938251495361\n",
      "batch:  0\n",
      "\n",
      "LOSS:  tensor(2322.6301, device='cuda:0', grad_fn=<MseLossBackward>)\n",
      "2.936264753341675\n",
      "batch:  1\n",
      "\n",
      "LOSS:  tensor(826227.9375, device='cuda:0', grad_fn=<MseLossBackward>)\n",
      "3.1445441246032715\n",
      "batch:  2\n",
      "\n",
      "LOSS:  tensor(112.3517, device='cuda:0', grad_fn=<MseLossBackward>)\n",
      "3.3530168533325195\n",
      "batch:  3\n",
      "\n",
      "LOSS:  tensor(4104.4580, device='cuda:0', grad_fn=<MseLossBackward>)\n",
      "3.561361789703369\n",
      "batch:  4\n",
      "\n",
      "LOSS:  tensor(1557.0879, device='cuda:0', grad_fn=<MseLossBackward>)\n",
      "3.770047664642334\n",
      "batch:  5\n",
      "\n",
      "LOSS:  tensor(392.7462, device='cuda:0', grad_fn=<MseLossBackward>)\n",
      "3.9941935539245605\n",
      "batch:  6\n",
      "\n",
      "LOSS:  tensor(35.5560, device='cuda:0', grad_fn=<MseLossBackward>)\n",
      "4.200319528579712\n",
      "batch:  0\n",
      "\n",
      "LOSS:  tensor(2374.8291, device='cuda:0', grad_fn=<MseLossBackward>)\n",
      "5.657011985778809\n",
      "batch:  1\n",
      "\n",
      "LOSS:  tensor(478.8951, device='cuda:0', grad_fn=<MseLossBackward>)\n",
      "5.874491214752197\n",
      "batch:  2\n",
      "\n",
      "LOSS:  tensor(146.1499, device='cuda:0', grad_fn=<MseLossBackward>)\n",
      "6.083712100982666\n",
      "batch:  3\n",
      "\n",
      "LOSS:  tensor(4104.4580, device='cuda:0', grad_fn=<MseLossBackward>)\n",
      "6.291868209838867\n",
      "batch:  4\n",
      "\n",
      "LOSS:  tensor(1557.0879, device='cuda:0', grad_fn=<MseLossBackward>)\n",
      "6.5011515617370605\n",
      "batch:  5\n",
      "\n",
      "LOSS:  tensor(392.7462, device='cuda:0', grad_fn=<MseLossBackward>)\n",
      "6.7170729637146\n",
      "batch:  6\n",
      "\n",
      "LOSS:  tensor(35.5560, device='cuda:0', grad_fn=<MseLossBackward>)\n",
      "6.922870397567749\n",
      "batch:  0\n",
      "\n",
      "LOSS:  tensor(2374.8291, device='cuda:0', grad_fn=<MseLossBackward>)\n",
      "8.357088327407837\n",
      "batch:  1\n",
      "\n",
      "LOSS:  tensor(478.8951, device='cuda:0', grad_fn=<MseLossBackward>)\n",
      "8.578601837158203\n",
      "batch:  2\n",
      "\n",
      "LOSS:  tensor(146.1499, device='cuda:0', grad_fn=<MseLossBackward>)\n",
      "8.787631511688232\n",
      "batch:  3\n",
      "\n",
      "LOSS:  tensor(4104.4580, device='cuda:0', grad_fn=<MseLossBackward>)\n",
      "8.996079206466675\n",
      "batch:  4\n",
      "\n",
      "LOSS:  tensor(1557.0879, device='cuda:0', grad_fn=<MseLossBackward>)\n",
      "9.204675197601318\n",
      "batch:  5\n",
      "\n",
      "LOSS:  tensor(392.7462, device='cuda:0', grad_fn=<MseLossBackward>)\n",
      "9.42056155204773\n",
      "batch:  6\n",
      "\n",
      "LOSS:  tensor(35.5560, device='cuda:0', grad_fn=<MseLossBackward>)\n",
      "9.635645627975464\n",
      "batch:  0\n",
      "\n",
      "LOSS:  tensor(2374.8291, device='cuda:0', grad_fn=<MseLossBackward>)\n",
      "11.292976140975952\n",
      "batch:  1\n",
      "\n",
      "LOSS:  tensor(478.8951, device='cuda:0', grad_fn=<MseLossBackward>)\n",
      "11.500357866287231\n",
      "batch:  2\n",
      "\n",
      "LOSS:  tensor(146.1499, device='cuda:0', grad_fn=<MseLossBackward>)\n",
      "11.70792555809021\n",
      "batch:  3\n",
      "\n",
      "LOSS:  tensor(4104.4580, device='cuda:0', grad_fn=<MseLossBackward>)\n",
      "11.915565490722656\n",
      "batch:  4\n",
      "\n",
      "LOSS:  tensor(1557.0879, device='cuda:0', grad_fn=<MseLossBackward>)\n",
      "12.129917621612549\n",
      "batch:  5\n",
      "\n",
      "LOSS:  tensor(392.7462, device='cuda:0', grad_fn=<MseLossBackward>)\n",
      "12.344831466674805\n",
      "batch:  6\n",
      "\n",
      "LOSS:  tensor(35.5560, device='cuda:0', grad_fn=<MseLossBackward>)\n",
      "12.550914287567139\n",
      "[2.36416533e+03 1.65615092e+05 1.23787439e+02 3.96495952e+03\n",
      " 1.51302197e+03 3.41826544e+02 3.29699554e+01]\n",
      "Val loss:  [1110.824759892055, 1298.531744820731, 1298.531744820731, 1298.531744820731, 1298.531744820731]\n"
     ]
    }
   ],
   "source": [
    "model.train()\n",
    "#n_iters = len(train_loader) * epoch\n",
    "\n",
    "epochs = 5\n",
    "losses = [[] for x in range(epochs)]\n",
    "val_losses = [0] * epochs\n",
    "\n",
    "end = time.time()\n",
    "for epoch in range(epochs):\n",
    "    #train_sampler.set_epoch(epoch)\n",
    "    \n",
    "    for i, (images, labels) in enumerate(train_loader):\n",
    "        # measure data loading time\n",
    "        print(\"batch: \", i)\n",
    "\n",
    "        print()\n",
    "\n",
    "        images = images.cuda(gpu)#, non_blocking=True)\n",
    "\n",
    "\n",
    "        labels = labels.cuda(gpu)#, non_blocking=True)\n",
    "\n",
    "        optimizer.zero_grad()\n",
    "\n",
    "        output = model(images)\n",
    "\n",
    "        output = torch.squeeze(output)\n",
    "\n",
    "        loss = criterion(output, labels)\n",
    "\n",
    "        print(\"LOSS: \", loss)\n",
    "\n",
    "        # compute gradient and do SGD step\n",
    "        loss.backward()\n",
    "        optimizer.step()\n",
    "\n",
    "        #print(loss.size())\n",
    "        losses[epoch].append(loss.detach().item())\n",
    "\n",
    "        # measure elapsed time\n",
    "        #batch_time.update(time.time() - end)\n",
    "        print(time.time() - end)\n",
    "        #end = time.time()\n",
    "\n",
    "\n",
    "    \n",
    "    val_losses[epoch] = validate(model, criterion, val_loader, gpu)\n",
    "    \n",
    "    #if epoch % 2 == 0:\n",
    "    #    torch.save({\n",
    "    #        'epoch': epoch,\n",
    "    #        'model_state_dict': model.state_dict(),\n",
    "    #        'optimizer_state_dict': optimizer.state_dict(),\n",
    "    #        'loss': loss,\n",
    "    #        }, 'checkpoint_supervised_{:04d}.pth.tar'.format(epoch))\n",
    "\n",
    "    \n",
    "print(np.mean(losses, axis=0))\n",
    "print(\"Val loss: \", val_losses)\n",
    "#!nvidia-smi\n",
    "\n",
    "\n",
    "# torch.save({\n",
    "#             'epoch': epoch,\n",
    "#             'model_state_dict': model.state_dict(),\n",
    "#             'optimizer_state_dict': optimizer.state_dict(),\n",
    "#             'loss': loss,\n",
    "#             }, 'checkpoint_supervised_{:04d}.pth.tar'.format(epoch))\n",
    "\n",
    "def save_checkpoint(state, is_best, filename='checkpoint_supervised.pth.tar'):\n",
    "    torch.save(state, filename)\n",
    "    if is_best:\n",
    "        shutil.copyfile(filename, 'model_best.pth.tar')"
   ]
  },
  {
   "cell_type": "code",
   "execution_count": 30,
   "metadata": {},
   "outputs": [
    {
     "name": "stdout",
     "output_type": "stream",
     "text": [
      "[[2357.809814453125, 401.118408203125, 72.071044921875, 3466.16357421875, 1078.8482666015625, 256.29583740234375, 40.19270706176758], [1726.695068359375, 78.37979125976562, 48.244606018066406, 2435.1962890625, 546.4178466796875, 361.98406982421875, 195.1053924560547], [907.6664428710938, 17.655973434448242, 128.21421813964844, 1707.1251220703125, 198.02406311035156, 288.1796875, 344.25994873046875], [514.7008666992188, 39.985626220703125, 144.11776733398438, 1264.183837890625, 77.29261779785156, 259.32513427734375, 295.02081298828125], [357.0130615234375, 65.30076599121094, 158.73971557617188, 1037.3001708984375, 170.69219970703125, 161.2042236328125, 293.71148681640625], [], [], [], [], [], [], [], [], [], [], [], [], [], [], [], [], [], [], [], [], [], [], [], [], [], [], [], [], [], [], [], [], [], [], [], [], [], [], [], [], [], [], [], [], [], [], [], [], [], [], [], [], [], [], [], [], [], [], [], [], [], [], [], [], [], [], [], [], [], [], [], [], [], [], [], [], [], [], [], [], [], [], [], [], [], [], [], [], [], [], [], [], [], [], []]\n",
      "[1096.0713789803642, 770.2890090942383, 513.017922265189, 370.66095188685824, 320.56594630650113]\n"
     ]
    },
    {
     "data": {
      "text/plain": [
       "Text(0.5, 1.0, 'Loss for supervised training')"
      ]
     },
     "execution_count": 30,
     "metadata": {},
     "output_type": "execute_result"
    },
    {
     "data": {
      "image/png": "[encoded data removed]",
      "text/plain": [
       "<Figure size 432x288 with 1 Axes>"
      ]
     },
     "metadata": {
      "needs_background": "light"
     },
     "output_type": "display_data"
    }
   ],
   "source": [
    "import matplotlib.pyplot as plt\n",
    "\n",
    "print(losses)\n",
    "epoch_losses = []\n",
    "\n",
    "textfile = open(\"losses4.txt\", \"w\")\n",
    "for epoch in losses:\n",
    "    if len(epoch) != 0:\n",
    "        mean_loss = np.mean(epoch)\n",
    "        epoch_losses.append(mean_loss)\n",
    "        textfile.write(str(mean_loss) + \"\\n\")\n",
    "    #for element in epoch:\n",
    "    #    textfile.write(str(element) + \"\\n\")\n",
    "    #textfile.write(\"\\n\")\n",
    "textfile.close()\n",
    "\n",
    "print(epoch_losses)\n",
    "plt.plot(epoch_losses)\n",
    "plt.title(\"Loss for supervised training\")"
   ]
  },
  {
   "cell_type": "code",
   "execution_count": 22,
   "metadata": {},
   "outputs": [
    {
     "name": "stdout",
     "output_type": "stream",
     "text": [
      "torch.cuda.memory_allocated: 0.520993GB\n",
      "torch.cuda.memory_reserved: 3.376953GB\n",
      "torch.cuda.max_memory_reserved: 3.376953GB\n"
     ]
    }
   ],
   "source": [
    "print(\"torch.cuda.memory_allocated: %fGB\"%(torch.cuda.memory_allocated(0)/1024/1024/1024))\n",
    "print(\"torch.cuda.memory_reserved: %fGB\"%(torch.cuda.memory_reserved(0)/1024/1024/1024))\n",
    "print(\"torch.cuda.max_memory_reserved: %fGB\"%(torch.cuda.max_memory_reserved(0)/1024/1024/1024))"
   ]
  },
  {
   "cell_type": "code",
   "execution_count": 47,
   "metadata": {},
   "outputs": [
    {
     "name": "stdout",
     "output_type": "stream",
     "text": [
      "total    : 16106127360\n",
      "free     : 11010048\n",
      "used     : 16095117312\n"
     ]
    }
   ],
   "source": [
    "from pynvml import *\n",
    "nvmlInit()\n",
    "h = nvmlDeviceGetHandleByIndex(0)\n",
    "info = nvmlDeviceGetMemoryInfo(h)\n",
    "print(f'total    : {info.total}')\n",
    "print(f'free     : {info.free}')\n",
    "print(f'used     : {info.used}')"
   ]
  },
  {
   "cell_type": "code",
   "execution_count": 51,
   "metadata": {},
   "outputs": [
    {
     "data": {
      "text/plain": [
       "'|===========================================================================|\\n|                  PyTorch CUDA memory summary, device ID 0                 |\\n|---------------------------------------------------------------------------|\\n|            CUDA OOMs: 13           |        cudaMalloc retries: 14        |\\n|===========================================================================|\\n|        Metric         | Cur Usage  | Peak Usage | Tot Alloc  | Tot Freed  |\\n|---------------------------------------------------------------------------|\\n| Allocated memory      |  555126 KB |  555126 KB |    1731 MB |    1189 MB |\\n|       from large pool |  471808 KB |  471808 KB |    1532 MB |    1072 MB |\\n|       from small pool |   83318 KB |  114341 KB |     198 MB |     117 MB |\\n|---------------------------------------------------------------------------|\\n| Active memory         |  555126 KB |  555126 KB |    1731 MB |    1189 MB |\\n|       from large pool |  471808 KB |  471808 KB |    1532 MB |    1072 MB |\\n|       from small pool |   83318 KB |  114341 KB |     198 MB |     117 MB |\\n|---------------------------------------------------------------------------|\\n| GPU reserved memory   |  559104 KB |  559104 KB |  598016 KB |   38912 KB |\\n|       from large pool |  473088 KB |  473088 KB |  473088 KB |       0 KB |\\n|       from small pool |   86016 KB |  118784 KB |  124928 KB |   38912 KB |\\n|---------------------------------------------------------------------------|\\n| Non-releasable memory |    3978 KB |   84460 KB |    1367 MB |    1363 MB |\\n|       from large pool |    1280 KB |   78208 KB |    1135 MB |    1134 MB |\\n|       from small pool |    2698 KB |   10213 KB |     232 MB |     229 MB |\\n|---------------------------------------------------------------------------|\\n| Allocations           |    1387    |    1387    |    2702    |    1315    |\\n|       from large pool |     122    |     135    |     312    |     190    |\\n|       from small pool |    1265    |    1265    |    2390    |    1125    |\\n|---------------------------------------------------------------------------|\\n| Active allocs         |    1387    |    1387    |    2702    |    1315    |\\n|       from large pool |     122    |     135    |     312    |     190    |\\n|       from small pool |    1265    |    1265    |    2390    |    1125    |\\n|---------------------------------------------------------------------------|\\n| GPU reserved segments |      63    |      77    |      82    |      19    |\\n|       from large pool |      21    |      21    |      21    |       0    |\\n|       from small pool |      42    |      58    |      61    |      19    |\\n|---------------------------------------------------------------------------|\\n| Non-releasable allocs |      24    |     105    |     705    |     681    |\\n|       from large pool |       1    |      12    |      59    |      58    |\\n|       from small pool |      23    |      97    |     646    |     623    |\\n|===========================================================================|\\n'"
      ]
     },
     "execution_count": 51,
     "metadata": {},
     "output_type": "execute_result"
    }
   ],
   "source": [
    "torch.cuda.memory_summary()"
   ]
  },
  {
   "cell_type": "code",
   "execution_count": 26,
   "metadata": {},
   "outputs": [
    {
     "name": "stdout",
     "output_type": "stream",
     "text": [
      "Defaulting to user installation because normal site-packages is not writeable\n",
      "Requirement already satisfied: nvidia-ml-py3 in /cephyr/users/benvin/Alvis/.local/lib/python3.8/site-packages (7.352.0)\n",
      "\u001b[33mWARNING: You are using pip version 20.2.3; however, version 22.0.4 is available.\n",
      "You should consider upgrading via the '/apps/Arch/software/Python/3.8.6-GCCcore-10.2.0/bin/python3.8 -m pip install --upgrade pip' command.\u001b[0m\n",
      "Device 0: b'Tesla T4', Memory : (0.29% free): 16106127360(total), 46661632 (free), 16059465728 (used)\n"
     ]
    }
   ],
   "source": [
    "!pip install nvidia-ml-py3\n",
    "import nvidia_smi\n",
    "\n",
    "nvidia_smi.nvmlInit()\n",
    "\n",
    "deviceCount = nvidia_smi.nvmlDeviceGetCount()\n",
    "for i in range(deviceCount):\n",
    "    handle = nvidia_smi.nvmlDeviceGetHandleByIndex(i)\n",
    "    info = nvidia_smi.nvmlDeviceGetMemoryInfo(handle)\n",
    "    print(\"Device {}: {}, Memory : ({:.2f}% free): {}(total), {} (free), {} (used)\".format(i, nvidia_smi.nvmlDeviceGetName(handle), 100*info.free/info.total, info.total, info.free, info.used))\n",
    "\n",
    "nvidia_smi.nvmlShutdown()"
   ]
  },
  {
   "cell_type": "code",
   "execution_count": 2,
   "metadata": {},
   "outputs": [],
   "source": [
    "textfile = open(\"losses_fold_{}_epoch_{:04d}_.txt\".format(\"A\", 1337), \"w\")\n",
    "    \n",
    "textfile.write(\"hej hej\")\n",
    "\n",
    "textfile.close()"
   ]
  }
 ],
 "metadata": {
  "interpreter": {
   "hash": "e5c1ededffaddf4ea9b5751265cb7c35ae90a6f4d12a3796792f1890d4794ad9"
  },
  "kernelspec": {
   "display_name": "Python 3.8.5 ('geo1': venv)",
   "language": "python",
   "name": "python3"
  },
  "language_info": {
   "codemirror_mode": {
    "name": "ipython",
    "version": 3
   },
   "file_extension": ".py",
   "mimetype": "text/x-python",
   "name": "python",
   "nbconvert_exporter": "python",
   "pygments_lexer": "ipython3",
   "version": "3.8.5"
  }
 },
 "nbformat": 4,
 "nbformat_minor": 4
}
