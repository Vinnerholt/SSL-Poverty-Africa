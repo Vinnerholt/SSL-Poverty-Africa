{
 "cells": [
  {
   "cell_type": "code",
   "execution_count": 1,
   "metadata": {},
   "outputs": [],
   "source": [
    "import pandas as pd\n",
    "import numpy as np\n",
    "import warnings\n",
    "import random\n",
    "import rasterio as rio\n",
    "from rasterio.plot import show\n",
    "import torch\n",
    "from glob import glob"
   ]
  },
  {
   "cell_type": "code",
   "execution_count": 17,
   "metadata": {},
   "outputs": [],
   "source": [
    "csv_small = '/cephyr/NOBACKUP/groups/globalpoverty1/JesperBenjamin/imagepath1000.csv'\n",
    "csv = '/cephyr/NOBACKUP/groups/globalpoverty1/JesperBenjamin/imagepathfull2.csv'"
   ]
  },
  {
   "cell_type": "code",
   "execution_count": 18,
   "metadata": {},
   "outputs": [
    {
     "name": "stdout",
     "output_type": "stream",
     "text": [
      "136963\n"
     ]
    },
    {
     "data": {
      "text/html": [
       "<div>\n",
       "<style scoped>\n",
       "    .dataframe tbody tr th:only-of-type {\n",
       "        vertical-align: middle;\n",
       "    }\n",
       "\n",
       "    .dataframe tbody tr th {\n",
       "        vertical-align: top;\n",
       "    }\n",
       "\n",
       "    .dataframe thead th {\n",
       "        text-align: right;\n",
       "    }\n",
       "</style>\n",
       "<table border=\"1\" class=\"dataframe\">\n",
       "  <thead>\n",
       "    <tr style=\"text-align: right;\">\n",
       "      <th></th>\n",
       "      <th>path</th>\n",
       "    </tr>\n",
       "  </thead>\n",
       "  <tbody>\n",
       "    <tr>\n",
       "      <th>0</th>\n",
       "      <td>/cephyr/NOBACKUP/groups/globalpoverty1/Kakooei...</td>\n",
       "    </tr>\n",
       "    <tr>\n",
       "      <th>1</th>\n",
       "      <td>/cephyr/NOBACKUP/groups/globalpoverty1/Kakooei...</td>\n",
       "    </tr>\n",
       "    <tr>\n",
       "      <th>2</th>\n",
       "      <td>/cephyr/NOBACKUP/groups/globalpoverty1/Kakooei...</td>\n",
       "    </tr>\n",
       "    <tr>\n",
       "      <th>3</th>\n",
       "      <td>/cephyr/NOBACKUP/groups/globalpoverty1/Kakooei...</td>\n",
       "    </tr>\n",
       "    <tr>\n",
       "      <th>4</th>\n",
       "      <td>/cephyr/NOBACKUP/groups/globalpoverty1/Kakooei...</td>\n",
       "    </tr>\n",
       "  </tbody>\n",
       "</table>\n",
       "</div>"
      ],
      "text/plain": [
       "                                                path\n",
       "0  /cephyr/NOBACKUP/groups/globalpoverty1/Kakooei...\n",
       "1  /cephyr/NOBACKUP/groups/globalpoverty1/Kakooei...\n",
       "2  /cephyr/NOBACKUP/groups/globalpoverty1/Kakooei...\n",
       "3  /cephyr/NOBACKUP/groups/globalpoverty1/Kakooei...\n",
       "4  /cephyr/NOBACKUP/groups/globalpoverty1/Kakooei..."
      ]
     },
     "execution_count": 18,
     "metadata": {},
     "output_type": "execute_result"
    }
   ],
   "source": [
    "df = pd.read_csv(csv, header=0)\n",
    "print(len(df.index))\n",
    "df.head()"
   ]
  },
  {
   "cell_type": "code",
   "execution_count": 5,
   "metadata": {},
   "outputs": [
    {
     "name": "stdout",
     "output_type": "stream",
     "text": [
      "/cephyr/NOBACKUP/groups/globalpoverty1/Kakooei/DatasetAfricaPoverty/TenYears/Geo28/0000025088-0000010752.tif\n",
      "<open DatasetReader name='/cephyr/NOBACKUP/groups/globalpoverty1/Kakooei/DatasetAfricaPoverty/TenYears/Geo28/0000025088-0000010752.tif' mode='r'>\n"
     ]
    }
   ],
   "source": [
    "img_path = df.iloc[0]['path']\n",
    "print(img_path)\n",
    "\n",
    "img_src = rio.open(img_path)\n",
    "print(img_src)\n"
   ]
  },
  {
   "cell_type": "code",
   "execution_count": 6,
   "metadata": {},
   "outputs": [
    {
     "name": "stdout",
     "output_type": "stream",
     "text": [
      "BoundingBox(left=39.82429283864345, bottom=-3.582122026955004, right=39.88465962573628, top=-3.521755239862172)\n",
      "BoundingBox(left=39.82429283864345, bottom=-3.582122026955004, right=39.88465962573628, top=-3.521755239862172)\n",
      "39.82429283864345\n",
      "39.85447623218987\n",
      "-3.551938633408588\n"
     ]
    }
   ],
   "source": [
    "\n",
    "print(img_src.bounds)\n",
    "bounds = img_src.bounds\n",
    "print(bounds)\n",
    "print(bounds.left)\n",
    "\n",
    "x = (bounds.left + bounds.right) / 2\n",
    "print(x)\n",
    "\n",
    "y = (bounds.top + bounds.bottom) / 2\n",
    "print(y)"
   ]
  },
  {
   "cell_type": "code",
   "execution_count": 21,
   "metadata": {},
   "outputs": [
    {
     "name": "stdout",
     "output_type": "stream",
     "text": [
      "0  /  136963\n",
      "1000  /  136963\n",
      "2000  /  136963\n",
      "3000  /  136963\n",
      "4000  /  136963\n",
      "5000  /  136963\n",
      "6000  /  136963\n",
      "7000  /  136963\n",
      "8000  /  136963\n",
      "9000  /  136963\n",
      "10000  /  136963\n",
      "11000  /  136963\n",
      "12000  /  136963\n",
      "13000  /  136963\n",
      "14000  /  136963\n",
      "15000  /  136963\n",
      "16000  /  136963\n",
      "17000  /  136963\n",
      "18000  /  136963\n",
      "19000  /  136963\n",
      "20000  /  136963\n",
      "21000  /  136963\n",
      "22000  /  136963\n",
      "23000  /  136963\n",
      "24000  /  136963\n",
      "25000  /  136963\n",
      "26000  /  136963\n",
      "27000  /  136963\n",
      "28000  /  136963\n",
      "29000  /  136963\n",
      "30000  /  136963\n",
      "31000  /  136963\n",
      "32000  /  136963\n",
      "33000  /  136963\n",
      "34000  /  136963\n",
      "35000  /  136963\n",
      "36000  /  136963\n",
      "37000  /  136963\n",
      "38000  /  136963\n",
      "39000  /  136963\n",
      "40000  /  136963\n",
      "41000  /  136963\n",
      "42000  /  136963\n",
      "43000  /  136963\n",
      "44000  /  136963\n",
      "45000  /  136963\n",
      "46000  /  136963\n",
      "47000  /  136963\n",
      "48000  /  136963\n",
      "49000  /  136963\n",
      "50000  /  136963\n",
      "51000  /  136963\n",
      "52000  /  136963\n",
      "53000  /  136963\n",
      "54000  /  136963\n",
      "55000  /  136963\n",
      "56000  /  136963\n",
      "57000  /  136963\n",
      "58000  /  136963\n",
      "59000  /  136963\n",
      "60000  /  136963\n",
      "61000  /  136963\n",
      "62000  /  136963\n",
      "63000  /  136963\n",
      "64000  /  136963\n",
      "65000  /  136963\n",
      "66000  /  136963\n",
      "67000  /  136963\n",
      "68000  /  136963\n",
      "69000  /  136963\n",
      "70000  /  136963\n",
      "71000  /  136963\n",
      "72000  /  136963\n",
      "73000  /  136963\n",
      "74000  /  136963\n",
      "75000  /  136963\n",
      "76000  /  136963\n",
      "77000  /  136963\n",
      "78000  /  136963\n",
      "79000  /  136963\n",
      "80000  /  136963\n",
      "81000  /  136963\n",
      "82000  /  136963\n",
      "83000  /  136963\n",
      "84000  /  136963\n",
      "85000  /  136963\n",
      "86000  /  136963\n",
      "87000  /  136963\n",
      "88000  /  136963\n",
      "89000  /  136963\n",
      "90000  /  136963\n",
      "91000  /  136963\n",
      "92000  /  136963\n",
      "93000  /  136963\n",
      "94000  /  136963\n",
      "95000  /  136963\n",
      "96000  /  136963\n",
      "97000  /  136963\n",
      "98000  /  136963\n",
      "99000  /  136963\n",
      "100000  /  136963\n",
      "101000  /  136963\n",
      "102000  /  136963\n",
      "103000  /  136963\n",
      "104000  /  136963\n",
      "105000  /  136963\n",
      "106000  /  136963\n",
      "107000  /  136963\n",
      "108000  /  136963\n",
      "109000  /  136963\n",
      "110000  /  136963\n",
      "111000  /  136963\n",
      "112000  /  136963\n",
      "113000  /  136963\n",
      "114000  /  136963\n",
      "115000  /  136963\n",
      "116000  /  136963\n",
      "117000  /  136963\n",
      "118000  /  136963\n",
      "119000  /  136963\n",
      "120000  /  136963\n",
      "121000  /  136963\n",
      "122000  /  136963\n",
      "123000  /  136963\n",
      "124000  /  136963\n",
      "125000  /  136963\n",
      "126000  /  136963\n",
      "127000  /  136963\n",
      "128000  /  136963\n",
      "129000  /  136963\n",
      "130000  /  136963\n",
      "131000  /  136963\n",
      "132000  /  136963\n",
      "133000  /  136963\n",
      "134000  /  136963\n",
      "135000  /  136963\n",
      "136000  /  136963\n"
     ]
    }
   ],
   "source": [
    "lat_list = []\n",
    "lon_list = []\n",
    "\n",
    "path_len = len(df.index)\n",
    "for i, path in enumerate(df['path']):\n",
    "\n",
    "    img_src = rio.open(path)\n",
    "    bounds = img_src.bounds\n",
    "\n",
    "    lat = (bounds.top + bounds.bottom) / 2\n",
    "    lon = (bounds.left + bounds.right) / 2\n",
    "\n",
    "    lat_list.append(lat)\n",
    "    lon_list.append(lon)\n",
    "\n",
    "    if i % 1000 == 0:\n",
    "        print(i, \" / \", path_len)\n",
    "\n"
   ]
  },
  {
   "cell_type": "code",
   "execution_count": null,
   "metadata": {},
   "outputs": [
    {
     "data": {
      "text/plain": [
       "1000"
      ]
     },
     "execution_count": 15,
     "metadata": {},
     "output_type": "execute_result"
    }
   ],
   "source": [
    "len(lon_list)"
   ]
  },
  {
   "cell_type": "code",
   "execution_count": 22,
   "metadata": {},
   "outputs": [],
   "source": [
    "df['lat'] = lat_list\n",
    "df['lon'] = lon_list"
   ]
  },
  {
   "cell_type": "code",
   "execution_count": 23,
   "metadata": {},
   "outputs": [],
   "source": [
    "df.to_csv('imagepaths_lat_lon.csv')"
   ]
  },
  {
   "cell_type": "code",
   "execution_count": 2,
   "metadata": {},
   "outputs": [
    {
     "name": "stdout",
     "output_type": "stream",
     "text": [
      "Requirement already satisfied: geopandas in /cephyr/NOBACKUP/groups/globalpoverty1/geo1/lib/python3.8/site-packages (0.10.2)\n",
      "Requirement already satisfied: descartes in /cephyr/NOBACKUP/groups/globalpoverty1/geo1/lib/python3.8/site-packages (1.1.0)\n",
      "Collecting pygeos\n",
      "  Using cached pygeos-0.12.0-cp38-cp38-manylinux_2_17_x86_64.manylinux2014_x86_64.whl (2.2 MB)\n",
      "Collecting cartopy\n",
      "  Using cached Cartopy-0.20.2.tar.gz (10.8 MB)\n",
      "  Installing build dependencies ... \u001b[?25ldone\n",
      "\u001b[?25h  Getting requirements to build wheel ... \u001b[?25lerror\n",
      "\u001b[31m  ERROR: Command errored out with exit status 1:\n",
      "   command: /cephyr/NOBACKUP/groups/globalpoverty1/geo1/bin/python3 /cephyr/NOBACKUP/groups/globalpoverty1/geo1/lib/python3.8/site-packages/pip/_vendor/pep517/_in_process.py get_requires_for_build_wheel /tmp/tmp6p7j2hvl\n",
      "       cwd: /tmp/pip-install-sic3r95c/cartopy\n",
      "  Complete output (3 lines):\n",
      "  setup.py:117: UserWarning: Unable to determine GEOS version. Ensure you have 3.7.2 or later installed, or installation may fail.\n",
      "    warnings.warn(\n",
      "  Proj 8.0.0 must be installed.\n",
      "  ----------------------------------------\u001b[0m\n",
      "\u001b[?25h\u001b[31mERROR: Command errored out with exit status 1: /cephyr/NOBACKUP/groups/globalpoverty1/geo1/bin/python3 /cephyr/NOBACKUP/groups/globalpoverty1/geo1/lib/python3.8/site-packages/pip/_vendor/pep517/_in_process.py get_requires_for_build_wheel /tmp/tmp6p7j2hvl Check the logs for full command output.\u001b[0m\n",
      "\u001b[33mWARNING: You are using pip version 20.1.1; however, version 22.1.1 is available.\n",
      "You should consider upgrading via the '/cephyr/NOBACKUP/groups/globalpoverty1/geo1/bin/python3 -m pip install --upgrade pip' command.\u001b[0m\n"
     ]
    }
   ],
   "source": [
    "!pip install geopandas descartes pygeos cartopy geoplot\n",
    "#!pip install desc"
   ]
  },
  {
   "cell_type": "code",
   "execution_count": 14,
   "metadata": {},
   "outputs": [
    {
     "data": {
      "text/html": [
       "<div>\n",
       "<style scoped>\n",
       "    .dataframe tbody tr th:only-of-type {\n",
       "        vertical-align: middle;\n",
       "    }\n",
       "\n",
       "    .dataframe tbody tr th {\n",
       "        vertical-align: top;\n",
       "    }\n",
       "\n",
       "    .dataframe thead th {\n",
       "        text-align: right;\n",
       "    }\n",
       "</style>\n",
       "<table border=\"1\" class=\"dataframe\">\n",
       "  <thead>\n",
       "    <tr style=\"text-align: right;\">\n",
       "      <th></th>\n",
       "      <th>path</th>\n",
       "      <th>lat</th>\n",
       "      <th>lon</th>\n",
       "    </tr>\n",
       "  </thead>\n",
       "  <tbody>\n",
       "    <tr>\n",
       "      <th>0</th>\n",
       "      <td>/cephyr/NOBACKUP/groups/globalpoverty1/Kakooei...</td>\n",
       "      <td>-3.551939</td>\n",
       "      <td>39.854476</td>\n",
       "    </tr>\n",
       "    <tr>\n",
       "      <th>1</th>\n",
       "      <td>/cephyr/NOBACKUP/groups/globalpoverty1/Kakooei...</td>\n",
       "      <td>2.967674</td>\n",
       "      <td>43.174650</td>\n",
       "    </tr>\n",
       "    <tr>\n",
       "      <th>2</th>\n",
       "      <td>/cephyr/NOBACKUP/groups/globalpoverty1/Kakooei...</td>\n",
       "      <td>1.458505</td>\n",
       "      <td>42.389881</td>\n",
       "    </tr>\n",
       "    <tr>\n",
       "      <th>3</th>\n",
       "      <td>/cephyr/NOBACKUP/groups/globalpoverty1/Kakooei...</td>\n",
       "      <td>-2.103136</td>\n",
       "      <td>37.137971</td>\n",
       "    </tr>\n",
       "    <tr>\n",
       "      <th>4</th>\n",
       "      <td>/cephyr/NOBACKUP/groups/globalpoverty1/Kakooei...</td>\n",
       "      <td>2.846941</td>\n",
       "      <td>44.019785</td>\n",
       "    </tr>\n",
       "  </tbody>\n",
       "</table>\n",
       "</div>"
      ],
      "text/plain": [
       "                                                path       lat        lon\n",
       "0  /cephyr/NOBACKUP/groups/globalpoverty1/Kakooei... -3.551939  39.854476\n",
       "1  /cephyr/NOBACKUP/groups/globalpoverty1/Kakooei...  2.967674  43.174650\n",
       "2  /cephyr/NOBACKUP/groups/globalpoverty1/Kakooei...  1.458505  42.389881\n",
       "3  /cephyr/NOBACKUP/groups/globalpoverty1/Kakooei... -2.103136  37.137971\n",
       "4  /cephyr/NOBACKUP/groups/globalpoverty1/Kakooei...  2.846941  44.019785"
      ]
     },
     "execution_count": 14,
     "metadata": {},
     "output_type": "execute_result"
    }
   ],
   "source": [
    "df = pd.read_csv('/cephyr/NOBACKUP/groups/globalpoverty1/JesperBenjamin/neighbor_pairs/imagepaths_lat_lon2.csv')\n",
    "\n",
    "df.head()"
   ]
  },
  {
   "cell_type": "code",
   "execution_count": 3,
   "metadata": {},
   "outputs": [
    {
     "name": "stdout",
     "output_type": "stream",
     "text": [
      "0.09009009009009009\n"
     ]
    },
    {
     "data": {
      "text/html": [
       "<div>\n",
       "<style scoped>\n",
       "    .dataframe tbody tr th:only-of-type {\n",
       "        vertical-align: middle;\n",
       "    }\n",
       "\n",
       "    .dataframe tbody tr th {\n",
       "        vertical-align: top;\n",
       "    }\n",
       "\n",
       "    .dataframe thead th {\n",
       "        text-align: right;\n",
       "    }\n",
       "</style>\n",
       "<table border=\"1\" class=\"dataframe\">\n",
       "  <thead>\n",
       "    <tr style=\"text-align: right;\">\n",
       "      <th></th>\n",
       "      <th>path</th>\n",
       "      <th>lat</th>\n",
       "      <th>lon</th>\n",
       "    </tr>\n",
       "  </thead>\n",
       "  <tbody>\n",
       "    <tr>\n",
       "      <th>0</th>\n",
       "      <td>/cephyr/NOBACKUP/groups/globalpoverty1/Kakooei...</td>\n",
       "      <td>-3.551939</td>\n",
       "      <td>39.854476</td>\n",
       "    </tr>\n",
       "    <tr>\n",
       "      <th>1</th>\n",
       "      <td>/cephyr/NOBACKUP/groups/globalpoverty1/Kakooei...</td>\n",
       "      <td>2.967674</td>\n",
       "      <td>43.174650</td>\n",
       "    </tr>\n",
       "    <tr>\n",
       "      <th>2</th>\n",
       "      <td>/cephyr/NOBACKUP/groups/globalpoverty1/Kakooei...</td>\n",
       "      <td>1.458505</td>\n",
       "      <td>42.389881</td>\n",
       "    </tr>\n",
       "    <tr>\n",
       "      <th>3</th>\n",
       "      <td>/cephyr/NOBACKUP/groups/globalpoverty1/Kakooei...</td>\n",
       "      <td>-2.103136</td>\n",
       "      <td>37.137971</td>\n",
       "    </tr>\n",
       "    <tr>\n",
       "      <th>4</th>\n",
       "      <td>/cephyr/NOBACKUP/groups/globalpoverty1/Kakooei...</td>\n",
       "      <td>2.846941</td>\n",
       "      <td>44.019785</td>\n",
       "    </tr>\n",
       "  </tbody>\n",
       "</table>\n",
       "</div>"
      ],
      "text/plain": [
       "                                                path       lat        lon\n",
       "0  /cephyr/NOBACKUP/groups/globalpoverty1/Kakooei... -3.551939  39.854476\n",
       "1  /cephyr/NOBACKUP/groups/globalpoverty1/Kakooei...  2.967674  43.174650\n",
       "2  /cephyr/NOBACKUP/groups/globalpoverty1/Kakooei...  1.458505  42.389881\n",
       "3  /cephyr/NOBACKUP/groups/globalpoverty1/Kakooei... -2.103136  37.137971\n",
       "4  /cephyr/NOBACKUP/groups/globalpoverty1/Kakooei...  2.846941  44.019785"
      ]
     },
     "execution_count": 3,
     "metadata": {},
     "output_type": "execute_result"
    }
   ],
   "source": [
    "from sklearn.metrics.pairwise import euclidean_distances\n",
    "from scipy.spatial.distance import cdist\n",
    "\n",
    "deg_to_km = 111\n",
    "km_to_deg = 1/deg_to_km\n",
    "\n",
    "radius_km = 10\n",
    "neighbor_radius = radius_km * km_to_deg\n",
    "print(neighbor_radius)\n",
    "\n",
    "df = pd.read_csv('imagepaths_lat_lon2.csv')\n",
    "\n",
    "\n",
    "\n",
    "locs = df[['lat', 'lon']].values\n",
    "locs_1000 = df.iloc[:1000][['lat', 'lon']].values\n",
    "\n",
    "df.head()"
   ]
  },
  {
   "cell_type": "code",
   "execution_count": 51,
   "metadata": {},
   "outputs": [],
   "source": [
    "neighbors_list = [[] for i in range(len(df.index))]\n",
    "#neighbors_arr = np.empty(len(df.index))\n",
    "\n",
    "\n",
    "\n",
    "for i, loc in enumerate(locs):\n",
    "    # Calculate distance to all other points (efficiently)\n",
    "    dists = cdist([loc], locs)\n",
    "\n",
    "    # Find indices of neighbors\n",
    "    neighbors = np.where(dists[0] < neighbor_radius)[0]\n",
    "\n",
    "    # Remove self as neighbor\n",
    "    neighbors = np.delete(neighbors, np.where(neighbors == i))\n",
    "\n",
    "    # Add to neighbor list\n",
    "    neighbors_list[i] = neighbors #[0]\n",
    "\n",
    "    #if is_neighbor(i_lat, i_lon, row_j['lat'], row_j['lon']):\n",
    "    #    neighbors_list[i].append(j)\n",
    "    \n",
    "    #break"
   ]
  },
  {
   "cell_type": "code",
   "execution_count": 77,
   "metadata": {},
   "outputs": [
    {
     "name": "stdout",
     "output_type": "stream",
     "text": [
      "Points having no neighbors:  3236\n",
      "Min amount of neighbors:  0\n",
      "Max amount of neighbors:  23\n",
      "Mean number of neighbors:  6.189876097924257\n"
     ]
    }
   ],
   "source": [
    "n_neighbors = [len(x) for x in neighbors_list]\n",
    "\n",
    "print(\"Points having no neighbors: \", len(np.where(np.array(n_neighbors) == 0)[0]))\n",
    "print(\"Min amount of neighbors: \", min(n_neighbors))\n",
    "print(\"Max amount of neighbors: \", max(n_neighbors))\n",
    "print(\"Mean number of neighbors: \", np.mean(n_neighbors))\n",
    "\n"
   ]
  },
  {
   "cell_type": "code",
   "execution_count": 76,
   "metadata": {},
   "outputs": [
    {
     "data": {
      "text/html": [
       "<div>\n",
       "<style scoped>\n",
       "    .dataframe tbody tr th:only-of-type {\n",
       "        vertical-align: middle;\n",
       "    }\n",
       "\n",
       "    .dataframe tbody tr th {\n",
       "        vertical-align: top;\n",
       "    }\n",
       "\n",
       "    .dataframe thead th {\n",
       "        text-align: right;\n",
       "    }\n",
       "</style>\n",
       "<table border=\"1\" class=\"dataframe\">\n",
       "  <thead>\n",
       "    <tr style=\"text-align: right;\">\n",
       "      <th></th>\n",
       "      <th>path</th>\n",
       "      <th>lat</th>\n",
       "      <th>lon</th>\n",
       "      <th>neighbors</th>\n",
       "    </tr>\n",
       "  </thead>\n",
       "  <tbody>\n",
       "    <tr>\n",
       "      <th>0</th>\n",
       "      <td>/cephyr/NOBACKUP/groups/globalpoverty1/Kakooei...</td>\n",
       "      <td>-3.551939</td>\n",
       "      <td>39.854476</td>\n",
       "      <td>[330, 907, 1253, 1303, 1314]</td>\n",
       "    </tr>\n",
       "    <tr>\n",
       "      <th>1</th>\n",
       "      <td>/cephyr/NOBACKUP/groups/globalpoverty1/Kakooei...</td>\n",
       "      <td>2.967674</td>\n",
       "      <td>43.174650</td>\n",
       "      <td>[40, 557, 53137, 54518, 55081]</td>\n",
       "    </tr>\n",
       "    <tr>\n",
       "      <th>2</th>\n",
       "      <td>/cephyr/NOBACKUP/groups/globalpoverty1/Kakooei...</td>\n",
       "      <td>1.458505</td>\n",
       "      <td>42.389881</td>\n",
       "      <td>[211, 686, 733, 875, 927, 1298, 1378]</td>\n",
       "    </tr>\n",
       "    <tr>\n",
       "      <th>3</th>\n",
       "      <td>/cephyr/NOBACKUP/groups/globalpoverty1/Kakooei...</td>\n",
       "      <td>-2.103136</td>\n",
       "      <td>37.137971</td>\n",
       "      <td>[88, 36851]</td>\n",
       "    </tr>\n",
       "    <tr>\n",
       "      <th>4</th>\n",
       "      <td>/cephyr/NOBACKUP/groups/globalpoverty1/Kakooei...</td>\n",
       "      <td>2.846941</td>\n",
       "      <td>44.019785</td>\n",
       "      <td>[365, 426, 571, 598, 926]</td>\n",
       "    </tr>\n",
       "  </tbody>\n",
       "</table>\n",
       "</div>"
      ],
      "text/plain": [
       "                                                path       lat        lon  \\\n",
       "0  /cephyr/NOBACKUP/groups/globalpoverty1/Kakooei... -3.551939  39.854476   \n",
       "1  /cephyr/NOBACKUP/groups/globalpoverty1/Kakooei...  2.967674  43.174650   \n",
       "2  /cephyr/NOBACKUP/groups/globalpoverty1/Kakooei...  1.458505  42.389881   \n",
       "3  /cephyr/NOBACKUP/groups/globalpoverty1/Kakooei... -2.103136  37.137971   \n",
       "4  /cephyr/NOBACKUP/groups/globalpoverty1/Kakooei...  2.846941  44.019785   \n",
       "\n",
       "                               neighbors  \n",
       "0           [330, 907, 1253, 1303, 1314]  \n",
       "1         [40, 557, 53137, 54518, 55081]  \n",
       "2  [211, 686, 733, 875, 927, 1298, 1378]  \n",
       "3                            [88, 36851]  \n",
       "4              [365, 426, 571, 598, 926]  "
      ]
     },
     "execution_count": 76,
     "metadata": {},
     "output_type": "execute_result"
    }
   ],
   "source": [
    "df['neighbors'] = neighbors_list\n",
    "df.head()"
   ]
  },
  {
   "cell_type": "code",
   "execution_count": 79,
   "metadata": {},
   "outputs": [],
   "source": [
    "#df.to_csv('imagepaths_neighbors.csv', index=False)"
   ]
  },
  {
   "cell_type": "code",
   "execution_count": 86,
   "metadata": {},
   "outputs": [
    {
     "data": {
      "text/plain": [
       "(11, 136963, 0)"
      ]
     },
     "execution_count": 86,
     "metadata": {},
     "output_type": "execute_result"
    }
   ],
   "source": [
    "neighbors_list_r = [[[] for i in range(len(df.index))] for i in range(len(radii))]\n",
    "np.shape(neighbors_list_r)"
   ]
  },
  {
   "cell_type": "code",
   "execution_count": 4,
   "metadata": {},
   "outputs": [],
   "source": [
    "radii_km = range(5, 16)\n",
    "radii = [x * km_to_deg for x in radii_km]\n",
    "\n",
    "\n",
    "\n",
    "neighbors_list_r = [[[] for i in range(len(radii))] for i in range(len(df.index)) ]\n",
    "np.shape(neighbors_list_r)\n",
    "\n",
    "for i, loc in enumerate(locs):\n",
    "    # Calculate distance to all other points (efficiently)\n",
    "    dists = cdist([loc], locs)\n",
    "\n",
    "    # Find indices of neighbors\n",
    "    r_neighbors = [[] for i in range(len(radii))]\n",
    "    for j, radius in enumerate(radii):\n",
    "        r_neighbors[j] = np.where(dists[0] < radius)[0]\n",
    "\n",
    "        # Remove self as neighbor\n",
    "        r_neighbors[j] = np.delete(r_neighbors[j], np.where(r_neighbors[j] == i))\n",
    "\n",
    "    # Add to neighbor list\n",
    "    neighbors_list_r[i] = r_neighbors #[0]\n"
   ]
  },
  {
   "cell_type": "code",
   "execution_count": 5,
   "metadata": {},
   "outputs": [
    {
     "name": "stdout",
     "output_type": "stream",
     "text": [
      "(9,)\n"
     ]
    },
    {
     "name": "stderr",
     "output_type": "stream",
     "text": [
      "<ipython-input-5-871d45f9e2dd>:1: VisibleDeprecationWarning: Creating an ndarray from ragged nested sequences (which is a list-or-tuple of lists-or-tuples-or ndarrays with different lengths or shapes) is deprecated. If you meant to do this, you must specify 'dtype=object' when creating the ndarray\n",
      "  neighbors_arr = np.array(neighbors_list_r).transpose(1,0)\n"
     ]
    }
   ],
   "source": [
    "neighbors_arr = np.array(neighbors_list_r).transpose(1,0)\n",
    "\n",
    "print(np.shape(neighbors_arr[10][0]))"
   ]
  },
  {
   "cell_type": "code",
   "execution_count": 7,
   "metadata": {},
   "outputs": [
    {
     "name": "stdout",
     "output_type": "stream",
     "text": [
      "RADIUS:  5\n",
      "Points having no neighbors:  125475\n",
      "Min amount of neighbors:  0\n",
      "Max amount of neighbors:  4\n",
      "Mean number of neighbors:  0.13121792016822062\n",
      "\n",
      "RADIUS:  6\n",
      "Points having no neighbors:  124645\n",
      "Min amount of neighbors:  0\n",
      "Max amount of neighbors:  6\n",
      "Mean number of neighbors:  0.19013894263414208\n",
      "\n",
      "RADIUS:  7\n",
      "Points having no neighbors:  4607\n",
      "Min amount of neighbors:  0\n",
      "Max amount of neighbors:  11\n",
      "Mean number of neighbors:  3.2564707256704364\n",
      "\n",
      "RADIUS:  8\n",
      "Points having no neighbors:  4603\n",
      "Min amount of neighbors:  0\n",
      "Max amount of neighbors:  13\n",
      "Mean number of neighbors:  3.3074772018720386\n",
      "\n",
      "RADIUS:  9\n",
      "Points having no neighbors:  4602\n",
      "Min amount of neighbors:  0\n",
      "Max amount of neighbors:  17\n",
      "Mean number of neighbors:  3.37099800676095\n",
      "\n",
      "RADIUS:  10\n",
      "Points having no neighbors:  3236\n",
      "Min amount of neighbors:  0\n",
      "Max amount of neighbors:  23\n",
      "Mean number of neighbors:  6.189876097924257\n",
      "\n",
      "RADIUS:  11\n",
      "Points having no neighbors:  3234\n",
      "Min amount of neighbors:  0\n",
      "Max amount of neighbors:  25\n",
      "Mean number of neighbors:  6.272511554215372\n",
      "\n",
      "RADIUS:  12\n",
      "Points having no neighbors:  3229\n",
      "Min amount of neighbors:  0\n",
      "Max amount of neighbors:  27\n",
      "Mean number of neighbors:  6.372129699261844\n",
      "\n",
      "RADIUS:  13\n",
      "Points having no neighbors:  3228\n",
      "Min amount of neighbors:  0\n",
      "Max amount of neighbors:  31\n",
      "Mean number of neighbors:  6.466841409723794\n",
      "\n",
      "RADIUS:  14\n",
      "Points having no neighbors:  2756\n",
      "Min amount of neighbors:  0\n",
      "Max amount of neighbors:  34\n",
      "Mean number of neighbors:  9.137518891963524\n",
      "\n",
      "RADIUS:  15\n",
      "Points having no neighbors:  1834\n",
      "Min amount of neighbors:  0\n",
      "Max amount of neighbors:  45\n",
      "Mean number of neighbors:  14.219066463205392\n",
      "\n"
     ]
    }
   ],
   "source": [
    "df_all_neighbors = df.copy()\n",
    "\n",
    "for i, neighbors_list in enumerate(neighbors_arr):\n",
    "\n",
    "    n_neighbors = [len(x) for x in neighbors_list]\n",
    "\n",
    "    print(\"RADIUS: \", i+5)\n",
    "    print(\"Points having no neighbors: \", len(np.where(np.array(n_neighbors) == 0)[0]))\n",
    "    print(\"Min amount of neighbors: \", min(n_neighbors))\n",
    "    print(\"Max amount of neighbors: \", max(n_neighbors))\n",
    "    print(\"Mean number of neighbors: \", np.mean(n_neighbors))\n",
    "    print()\n",
    "\n",
    "    column = 'neighbors_' + str(radii_km[i])\n",
    "\n",
    "    df_all_neighbors[column] = neighbors_list\n",
    "\n",
    "df_all_neighbors.to_csv('imagepaths_all_neighbors.csv', index=False)"
   ]
  },
  {
   "cell_type": "markdown",
   "metadata": {},
   "source": [
    "# Dataset testing"
   ]
  },
  {
   "cell_type": "code",
   "execution_count": 2,
   "metadata": {},
   "outputs": [
    {
     "data": {
      "text/html": [
       "<div>\n",
       "<style scoped>\n",
       "    .dataframe tbody tr th:only-of-type {\n",
       "        vertical-align: middle;\n",
       "    }\n",
       "\n",
       "    .dataframe tbody tr th {\n",
       "        vertical-align: top;\n",
       "    }\n",
       "\n",
       "    .dataframe thead th {\n",
       "        text-align: right;\n",
       "    }\n",
       "</style>\n",
       "<table border=\"1\" class=\"dataframe\">\n",
       "  <thead>\n",
       "    <tr style=\"text-align: right;\">\n",
       "      <th></th>\n",
       "      <th>path</th>\n",
       "      <th>lat</th>\n",
       "      <th>lon</th>\n",
       "      <th>neighbors_5</th>\n",
       "      <th>neighbors_6</th>\n",
       "      <th>neighbors_7</th>\n",
       "      <th>neighbors_8</th>\n",
       "      <th>neighbors_9</th>\n",
       "      <th>neighbors_10</th>\n",
       "      <th>neighbors_11</th>\n",
       "      <th>neighbors_12</th>\n",
       "      <th>neighbors_13</th>\n",
       "      <th>neighbors_14</th>\n",
       "      <th>neighbors_15</th>\n",
       "    </tr>\n",
       "  </thead>\n",
       "  <tbody>\n",
       "    <tr>\n",
       "      <th>0</th>\n",
       "      <td>/cephyr/NOBACKUP/groups/globalpoverty1/Kakooei...</td>\n",
       "      <td>-3.551939</td>\n",
       "      <td>39.854476</td>\n",
       "      <td>[]</td>\n",
       "      <td>[]</td>\n",
       "      <td>[ 330 1253 1314]</td>\n",
       "      <td>[ 330 1253 1314]</td>\n",
       "      <td>[ 330 1253 1314]</td>\n",
       "      <td>[ 330  907 1253 1303 1314]</td>\n",
       "      <td>[ 330  907 1253 1303 1314]</td>\n",
       "      <td>[ 330  907 1253 1303 1314]</td>\n",
       "      <td>[ 330  907 1253 1303 1314]</td>\n",
       "      <td>[ 330  907 1018 1253 1303 1314]</td>\n",
       "      <td>[ 152  309  330  560  907 1018 1253 1303 1314]</td>\n",
       "    </tr>\n",
       "    <tr>\n",
       "      <th>1</th>\n",
       "      <td>/cephyr/NOBACKUP/groups/globalpoverty1/Kakooei...</td>\n",
       "      <td>2.967674</td>\n",
       "      <td>43.174650</td>\n",
       "      <td>[54518]</td>\n",
       "      <td>[54518]</td>\n",
       "      <td>[   40 53137 54518 55081]</td>\n",
       "      <td>[   40 53137 54518 55081]</td>\n",
       "      <td>[   40 53137 54518 55081]</td>\n",
       "      <td>[   40   557 53137 54518 55081]</td>\n",
       "      <td>[   40   557 53137 54518 55081]</td>\n",
       "      <td>[   40   557 53137 54518 55081 55784]</td>\n",
       "      <td>[   40   557 52356 53137 54518 55081 55784]</td>\n",
       "      <td>[   40   557 52356 53137 54518 55081 55784]</td>\n",
       "      <td>[   40   557   727 52356 53137 54518 55081 55784]</td>\n",
       "    </tr>\n",
       "    <tr>\n",
       "      <th>2</th>\n",
       "      <td>/cephyr/NOBACKUP/groups/globalpoverty1/Kakooei...</td>\n",
       "      <td>1.458505</td>\n",
       "      <td>42.389881</td>\n",
       "      <td>[]</td>\n",
       "      <td>[]</td>\n",
       "      <td>[ 211  686  875 1298]</td>\n",
       "      <td>[ 211  686  875 1298]</td>\n",
       "      <td>[ 211  686  875 1298]</td>\n",
       "      <td>[ 211  686  733  875  927 1298 1378]</td>\n",
       "      <td>[ 211  686  733  875  927 1298 1378]</td>\n",
       "      <td>[ 211  686  733  875  927 1298 1378]</td>\n",
       "      <td>[ 211  686  733  875  927 1298 1378]</td>\n",
       "      <td>[ 211  686  733  875  927 1298 1378]</td>\n",
       "      <td>[ 117  211  686  725  733  875  927 1298 1378]</td>\n",
       "    </tr>\n",
       "    <tr>\n",
       "      <th>3</th>\n",
       "      <td>/cephyr/NOBACKUP/groups/globalpoverty1/Kakooei...</td>\n",
       "      <td>-2.103136</td>\n",
       "      <td>37.137971</td>\n",
       "      <td>[36851]</td>\n",
       "      <td>[36851]</td>\n",
       "      <td>[   88 36851]</td>\n",
       "      <td>[   88 36851]</td>\n",
       "      <td>[   88 36851]</td>\n",
       "      <td>[   88 36851]</td>\n",
       "      <td>[   88 36851]</td>\n",
       "      <td>[   88 36851]</td>\n",
       "      <td>[   88 36851]</td>\n",
       "      <td>[   88  1258 36688 36851]</td>\n",
       "      <td>[   88   851  1258 36688 36851]</td>\n",
       "    </tr>\n",
       "    <tr>\n",
       "      <th>4</th>\n",
       "      <td>/cephyr/NOBACKUP/groups/globalpoverty1/Kakooei...</td>\n",
       "      <td>2.846941</td>\n",
       "      <td>44.019785</td>\n",
       "      <td>[]</td>\n",
       "      <td>[]</td>\n",
       "      <td>[365 926]</td>\n",
       "      <td>[365 926]</td>\n",
       "      <td>[365 926]</td>\n",
       "      <td>[365 426 571 598 926]</td>\n",
       "      <td>[  365   426   571   598   926 52685]</td>\n",
       "      <td>[   365    426    571    598    926  52685 106...</td>\n",
       "      <td>[   365    426    571    598    926  52685  54...</td>\n",
       "      <td>[   259    365    426    571    598    795    ...</td>\n",
       "      <td>[   259    365    426    571    598    795    ...</td>\n",
       "    </tr>\n",
       "  </tbody>\n",
       "</table>\n",
       "</div>"
      ],
      "text/plain": [
       "                                                path       lat        lon  \\\n",
       "0  /cephyr/NOBACKUP/groups/globalpoverty1/Kakooei... -3.551939  39.854476   \n",
       "1  /cephyr/NOBACKUP/groups/globalpoverty1/Kakooei...  2.967674  43.174650   \n",
       "2  /cephyr/NOBACKUP/groups/globalpoverty1/Kakooei...  1.458505  42.389881   \n",
       "3  /cephyr/NOBACKUP/groups/globalpoverty1/Kakooei... -2.103136  37.137971   \n",
       "4  /cephyr/NOBACKUP/groups/globalpoverty1/Kakooei...  2.846941  44.019785   \n",
       "\n",
       "  neighbors_5 neighbors_6                neighbors_7  \\\n",
       "0          []          []           [ 330 1253 1314]   \n",
       "1     [54518]     [54518]  [   40 53137 54518 55081]   \n",
       "2          []          []      [ 211  686  875 1298]   \n",
       "3     [36851]     [36851]              [   88 36851]   \n",
       "4          []          []                  [365 926]   \n",
       "\n",
       "                 neighbors_8                neighbors_9  \\\n",
       "0           [ 330 1253 1314]           [ 330 1253 1314]   \n",
       "1  [   40 53137 54518 55081]  [   40 53137 54518 55081]   \n",
       "2      [ 211  686  875 1298]      [ 211  686  875 1298]   \n",
       "3              [   88 36851]              [   88 36851]   \n",
       "4                  [365 926]                  [365 926]   \n",
       "\n",
       "                           neighbors_10  \\\n",
       "0            [ 330  907 1253 1303 1314]   \n",
       "1       [   40   557 53137 54518 55081]   \n",
       "2  [ 211  686  733  875  927 1298 1378]   \n",
       "3                         [   88 36851]   \n",
       "4                 [365 426 571 598 926]   \n",
       "\n",
       "                            neighbors_11  \\\n",
       "0             [ 330  907 1253 1303 1314]   \n",
       "1        [   40   557 53137 54518 55081]   \n",
       "2   [ 211  686  733  875  927 1298 1378]   \n",
       "3                          [   88 36851]   \n",
       "4  [  365   426   571   598   926 52685]   \n",
       "\n",
       "                                        neighbors_12  \\\n",
       "0                         [ 330  907 1253 1303 1314]   \n",
       "1              [   40   557 53137 54518 55081 55784]   \n",
       "2               [ 211  686  733  875  927 1298 1378]   \n",
       "3                                      [   88 36851]   \n",
       "4  [   365    426    571    598    926  52685 106...   \n",
       "\n",
       "                                        neighbors_13  \\\n",
       "0                         [ 330  907 1253 1303 1314]   \n",
       "1        [   40   557 52356 53137 54518 55081 55784]   \n",
       "2               [ 211  686  733  875  927 1298 1378]   \n",
       "3                                      [   88 36851]   \n",
       "4  [   365    426    571    598    926  52685  54...   \n",
       "\n",
       "                                        neighbors_14  \\\n",
       "0                    [ 330  907 1018 1253 1303 1314]   \n",
       "1        [   40   557 52356 53137 54518 55081 55784]   \n",
       "2               [ 211  686  733  875  927 1298 1378]   \n",
       "3                          [   88  1258 36688 36851]   \n",
       "4  [   259    365    426    571    598    795    ...   \n",
       "\n",
       "                                        neighbors_15  \n",
       "0     [ 152  309  330  560  907 1018 1253 1303 1314]  \n",
       "1  [   40   557   727 52356 53137 54518 55081 55784]  \n",
       "2     [ 117  211  686  725  733  875  927 1298 1378]  \n",
       "3                    [   88   851  1258 36688 36851]  \n",
       "4  [   259    365    426    571    598    795    ...  "
      ]
     },
     "execution_count": 2,
     "metadata": {},
     "output_type": "execute_result"
    }
   ],
   "source": [
    "csv_neighbors = '/cephyr/NOBACKUP/groups/globalpoverty1/JesperBenjamin/neighbor_pairs/imagepaths_all_neighbors.csv'\n",
    "df = pd.read_csv(csv_neighbors)\n",
    "df.head()"
   ]
  },
  {
   "cell_type": "code",
   "execution_count": 4,
   "metadata": {},
   "outputs": [
    {
     "name": "stdout",
     "output_type": "stream",
     "text": [
      "0         NaN\n",
      "1         NaN\n",
      "2         NaN\n",
      "3         NaN\n",
      "4         NaN\n",
      "         ... \n",
      "136958    NaN\n",
      "136959    NaN\n",
      "136960    NaN\n",
      "136961    NaN\n",
      "136962    NaN\n",
      "Name: neighbors_10, Length: 136963, dtype: object\n"
     ]
    }
   ],
   "source": [
    "\n",
    "neighbors_10 = df['neighbors_10']\n",
    "neighbors_10.head()\n",
    "\n",
    "\n",
    "ind = neighbors_10.where(neighbors_10 == '[]')\n",
    "\n",
    "print(ind)\n"
   ]
  },
  {
   "cell_type": "code",
   "execution_count": 4,
   "metadata": {},
   "outputs": [
    {
     "name": "stdout",
     "output_type": "stream",
     "text": [
      "['[', '193', '515', '712', '775', '1264', '1329]']\n",
      "1329\n"
     ]
    },
    {
     "data": {
      "text/plain": [
       "[193, 515, 712, 775, 1264, 1329]"
      ]
     },
     "execution_count": 4,
     "metadata": {},
     "output_type": "execute_result"
    }
   ],
   "source": [
    "test = neighbors_10.iloc[10]\n",
    "split = test.split( )\n",
    "print(split)\n",
    "ind_list = [int(ind) for ind in split[1:-1]]\n",
    "print(split[-1][:-1])\n",
    "ind_list.append(int(split[-1][:-1]))\n",
    "ind_list\n"
   ]
  },
  {
   "cell_type": "code",
   "execution_count": 5,
   "metadata": {},
   "outputs": [],
   "source": [
    "neighbor_list = []\n",
    "\n",
    "for i, row in enumerate(neighbors_10):\n",
    "    split = row.split( )\n",
    "    #print(split)\n",
    "\n",
    "    ind_list = [int(ind) for ind in split[1:-1]]\n",
    "    \n",
    "    last_ind = split[-1]\n",
    "    if last_ind == '[]':\n",
    "        ind_list.append([])\n",
    "    else:\n",
    "        #print(\"last_ind: \", last_ind)\n",
    "        last_ind = last_ind.replace('[', '')\n",
    "        last_ind = last_ind.replace(']', '')\n",
    "        #print(\"last_ind after replace: \", last_ind, \"index: \", i)\n",
    "        ind_list.append(int(last_ind))\n",
    "\n",
    "\n",
    "    neighbor_list.append(ind_list)\n",
    "    \n",
    "    #print(row)\n",
    "    #print(ind_list)\n",
    "    #print(neighbor_list)\n",
    "    \n",
    "    #if i >= 3:\n",
    "    #    break"
   ]
  },
  {
   "cell_type": "code",
   "execution_count": 7,
   "metadata": {},
   "outputs": [
    {
     "data": {
      "text/plain": [
       "[7869, 8741, 9461, 9840, 9852, 9919, 11226, 13623]"
      ]
     },
     "execution_count": 7,
     "metadata": {},
     "output_type": "execute_result"
    }
   ],
   "source": [
    "neighbor_list[10000]"
   ]
  },
  {
   "cell_type": "code",
   "execution_count": null,
   "metadata": {},
   "outputs": [],
   "source": [
    "!ml load torchvision/0.9.1-fosscuda-2020b-PyTorch-1.8.1\n",
    "!pip install torchvision"
   ]
  },
  {
   "cell_type": "code",
   "execution_count": 40,
   "metadata": {},
   "outputs": [],
   "source": [
    "import sys\n",
    "import importlib\n",
    "import albumentations as A\n",
    "from albumentations.pytorch import ToTensorV2\n",
    "from rasterio.plot import show\n",
    "import matplotlib.pyplot as plt\n",
    "%matplotlib inline\n",
    "\n",
    "sys.path.insert(0, '/cephyr/NOBACKUP/groups/globalpoverty1/JesperBenjamin/geography-aware-ssl/moco_fmow/moco')\n",
    "from ms_nl_resnet import MS_NL_ResNet18\n",
    "import fmow_dataloader \n",
    "importlib.reload(fmow_dataloader)\n",
    "from fmow_dataloader import CustomDatasetFromImagesSpatioTemporal"
   ]
  },
  {
   "cell_type": "code",
   "execution_count": 41,
   "metadata": {},
   "outputs": [],
   "source": [
    "aug = A.Compose([\n",
    "            ToTensorV2()\n",
    "        ])\n",
    "dataset = fmow_dataloader.CustomDatasetFromImagesSpatioTemporal(csv_neighbors,\n",
    "    transform=aug, temporal=False)\n",
    "loader = torch.utils.data.DataLoader(\n",
    "        dataset, batch_size=5)"
   ]
  },
  {
   "cell_type": "code",
   "execution_count": 42,
   "metadata": {},
   "outputs": [
    {
     "name": "stdout",
     "output_type": "stream",
     "text": [
      "img_path:  /cephyr/NOBACKUP/groups/globalpoverty1/Kakooei/DatasetAfricaPoverty/TenYears/Geo28/0000025088-0000010752.tif\n",
      "img_path:  /cephyr/NOBACKUP/groups/globalpoverty1/Kakooei/DatasetAfricaPoverty/TenYears/Geo28/0000000896-0000023072.tif\n",
      "img_path:  /cephyr/NOBACKUP/groups/globalpoverty1/Kakooei/DatasetAfricaPoverty/TenYears/Geo28/0000006496-0000020160.tif\n",
      "img_path:  /cephyr/NOBACKUP/groups/globalpoverty1/Kakooei/DatasetAfricaPoverty/TenYears/Geo28/0000019712-0000000672.tif\n",
      "img_path:  /cephyr/NOBACKUP/groups/globalpoverty1/Kakooei/DatasetAfricaPoverty/TenYears/Geo28/0000001344-0000026208.tif\n",
      "<class 'list'>\n"
     ]
    }
   ],
   "source": [
    "\n",
    "for i, (images, labels) in enumerate(loader):\n",
    "    print(type(images))\n",
    "    #print(images)\n",
    "    images[0].size()\n",
    "    \n",
    "    break"
   ]
  },
  {
   "cell_type": "code",
   "execution_count": 47,
   "metadata": {},
   "outputs": [
    {
     "data": {
      "image/png": "[encoded data removed]",
      "text/plain": [
       "<Figure size 432x288 with 1 Axes>"
      ]
     },
     "metadata": {
      "needs_background": "light"
     },
     "output_type": "display_data"
    },
    {
     "data": {
      "image/png": "[encoded data removed]",
      "text/plain": [
       "<Figure size 432x288 with 1 Axes>"
      ]
     },
     "metadata": {
      "needs_background": "light"
     },
     "output_type": "display_data"
    },
    {
     "data": {
      "text/plain": [
       "<AxesSubplot:>"
      ]
     },
     "execution_count": 47,
     "metadata": {},
     "output_type": "execute_result"
    }
   ],
   "source": [
    "plt.axis('off')\n",
    "show(images[0][2].detach().numpy()[(2,1,0),:,:], adjust=True)\n",
    "plt.axis('off')\n",
    "show(images[1][2].detach().numpy()[(2,1,0),:,:], adjust=True)\n"
   ]
  },
  {
   "cell_type": "code",
   "execution_count": 29,
   "metadata": {},
   "outputs": [
    {
     "data": {
      "text/html": [
       "<div>\n",
       "<style scoped>\n",
       "    .dataframe tbody tr th:only-of-type {\n",
       "        vertical-align: middle;\n",
       "    }\n",
       "\n",
       "    .dataframe tbody tr th {\n",
       "        vertical-align: top;\n",
       "    }\n",
       "\n",
       "    .dataframe thead th {\n",
       "        text-align: right;\n",
       "    }\n",
       "</style>\n",
       "<table border=\"1\" class=\"dataframe\">\n",
       "  <thead>\n",
       "    <tr style=\"text-align: right;\">\n",
       "      <th></th>\n",
       "      <th>path</th>\n",
       "      <th>lat</th>\n",
       "      <th>lon</th>\n",
       "      <th>neighbors_5</th>\n",
       "      <th>neighbors_6</th>\n",
       "      <th>neighbors_7</th>\n",
       "      <th>neighbors_8</th>\n",
       "      <th>neighbors_9</th>\n",
       "      <th>neighbors_10</th>\n",
       "      <th>neighbors_11</th>\n",
       "      <th>neighbors_12</th>\n",
       "      <th>neighbors_13</th>\n",
       "      <th>neighbors_14</th>\n",
       "      <th>neighbors_15</th>\n",
       "    </tr>\n",
       "  </thead>\n",
       "  <tbody>\n",
       "    <tr>\n",
       "      <th>0</th>\n",
       "      <td>/cephyr/NOBACKUP/groups/globalpoverty1/Kakooei...</td>\n",
       "      <td>-3.551939</td>\n",
       "      <td>39.854476</td>\n",
       "      <td>[]</td>\n",
       "      <td>[]</td>\n",
       "      <td>[ 330 1253 1314]</td>\n",
       "      <td>[ 330 1253 1314]</td>\n",
       "      <td>[ 330 1253 1314]</td>\n",
       "      <td>[ 330  907 1253 1303 1314]</td>\n",
       "      <td>[ 330  907 1253 1303 1314]</td>\n",
       "      <td>[ 330  907 1253 1303 1314]</td>\n",
       "      <td>[ 330  907 1253 1303 1314]</td>\n",
       "      <td>[ 330  907 1018 1253 1303 1314]</td>\n",
       "      <td>[ 152  309  330  560  907 1018 1253 1303 1314]</td>\n",
       "    </tr>\n",
       "    <tr>\n",
       "      <th>1</th>\n",
       "      <td>/cephyr/NOBACKUP/groups/globalpoverty1/Kakooei...</td>\n",
       "      <td>2.967674</td>\n",
       "      <td>43.174650</td>\n",
       "      <td>[54518]</td>\n",
       "      <td>[54518]</td>\n",
       "      <td>[   40 53137 54518 55081]</td>\n",
       "      <td>[   40 53137 54518 55081]</td>\n",
       "      <td>[   40 53137 54518 55081]</td>\n",
       "      <td>[   40   557 53137 54518 55081]</td>\n",
       "      <td>[   40   557 53137 54518 55081]</td>\n",
       "      <td>[   40   557 53137 54518 55081 55784]</td>\n",
       "      <td>[   40   557 52356 53137 54518 55081 55784]</td>\n",
       "      <td>[   40   557 52356 53137 54518 55081 55784]</td>\n",
       "      <td>[   40   557   727 52356 53137 54518 55081 55784]</td>\n",
       "    </tr>\n",
       "    <tr>\n",
       "      <th>2</th>\n",
       "      <td>/cephyr/NOBACKUP/groups/globalpoverty1/Kakooei...</td>\n",
       "      <td>1.458505</td>\n",
       "      <td>42.389881</td>\n",
       "      <td>[]</td>\n",
       "      <td>[]</td>\n",
       "      <td>[ 211  686  875 1298]</td>\n",
       "      <td>[ 211  686  875 1298]</td>\n",
       "      <td>[ 211  686  875 1298]</td>\n",
       "      <td>[ 211  686  733  875  927 1298 1378]</td>\n",
       "      <td>[ 211  686  733  875  927 1298 1378]</td>\n",
       "      <td>[ 211  686  733  875  927 1298 1378]</td>\n",
       "      <td>[ 211  686  733  875  927 1298 1378]</td>\n",
       "      <td>[ 211  686  733  875  927 1298 1378]</td>\n",
       "      <td>[ 117  211  686  725  733  875  927 1298 1378]</td>\n",
       "    </tr>\n",
       "    <tr>\n",
       "      <th>3</th>\n",
       "      <td>/cephyr/NOBACKUP/groups/globalpoverty1/Kakooei...</td>\n",
       "      <td>-2.103136</td>\n",
       "      <td>37.137971</td>\n",
       "      <td>[36851]</td>\n",
       "      <td>[36851]</td>\n",
       "      <td>[   88 36851]</td>\n",
       "      <td>[   88 36851]</td>\n",
       "      <td>[   88 36851]</td>\n",
       "      <td>[   88 36851]</td>\n",
       "      <td>[   88 36851]</td>\n",
       "      <td>[   88 36851]</td>\n",
       "      <td>[   88 36851]</td>\n",
       "      <td>[   88  1258 36688 36851]</td>\n",
       "      <td>[   88   851  1258 36688 36851]</td>\n",
       "    </tr>\n",
       "    <tr>\n",
       "      <th>4</th>\n",
       "      <td>/cephyr/NOBACKUP/groups/globalpoverty1/Kakooei...</td>\n",
       "      <td>2.846941</td>\n",
       "      <td>44.019785</td>\n",
       "      <td>[]</td>\n",
       "      <td>[]</td>\n",
       "      <td>[365 926]</td>\n",
       "      <td>[365 926]</td>\n",
       "      <td>[365 926]</td>\n",
       "      <td>[365 426 571 598 926]</td>\n",
       "      <td>[  365   426   571   598   926 52685]</td>\n",
       "      <td>[   365    426    571    598    926  52685 106...</td>\n",
       "      <td>[   365    426    571    598    926  52685  54...</td>\n",
       "      <td>[   259    365    426    571    598    795    ...</td>\n",
       "      <td>[   259    365    426    571    598    795    ...</td>\n",
       "    </tr>\n",
       "  </tbody>\n",
       "</table>\n",
       "</div>"
      ],
      "text/plain": [
       "                                                path       lat        lon  \\\n",
       "0  /cephyr/NOBACKUP/groups/globalpoverty1/Kakooei... -3.551939  39.854476   \n",
       "1  /cephyr/NOBACKUP/groups/globalpoverty1/Kakooei...  2.967674  43.174650   \n",
       "2  /cephyr/NOBACKUP/groups/globalpoverty1/Kakooei...  1.458505  42.389881   \n",
       "3  /cephyr/NOBACKUP/groups/globalpoverty1/Kakooei... -2.103136  37.137971   \n",
       "4  /cephyr/NOBACKUP/groups/globalpoverty1/Kakooei...  2.846941  44.019785   \n",
       "\n",
       "  neighbors_5 neighbors_6                neighbors_7  \\\n",
       "0          []          []           [ 330 1253 1314]   \n",
       "1     [54518]     [54518]  [   40 53137 54518 55081]   \n",
       "2          []          []      [ 211  686  875 1298]   \n",
       "3     [36851]     [36851]              [   88 36851]   \n",
       "4          []          []                  [365 926]   \n",
       "\n",
       "                 neighbors_8                neighbors_9  \\\n",
       "0           [ 330 1253 1314]           [ 330 1253 1314]   \n",
       "1  [   40 53137 54518 55081]  [   40 53137 54518 55081]   \n",
       "2      [ 211  686  875 1298]      [ 211  686  875 1298]   \n",
       "3              [   88 36851]              [   88 36851]   \n",
       "4                  [365 926]                  [365 926]   \n",
       "\n",
       "                           neighbors_10  \\\n",
       "0            [ 330  907 1253 1303 1314]   \n",
       "1       [   40   557 53137 54518 55081]   \n",
       "2  [ 211  686  733  875  927 1298 1378]   \n",
       "3                         [   88 36851]   \n",
       "4                 [365 426 571 598 926]   \n",
       "\n",
       "                            neighbors_11  \\\n",
       "0             [ 330  907 1253 1303 1314]   \n",
       "1        [   40   557 53137 54518 55081]   \n",
       "2   [ 211  686  733  875  927 1298 1378]   \n",
       "3                          [   88 36851]   \n",
       "4  [  365   426   571   598   926 52685]   \n",
       "\n",
       "                                        neighbors_12  \\\n",
       "0                         [ 330  907 1253 1303 1314]   \n",
       "1              [   40   557 53137 54518 55081 55784]   \n",
       "2               [ 211  686  733  875  927 1298 1378]   \n",
       "3                                      [   88 36851]   \n",
       "4  [   365    426    571    598    926  52685 106...   \n",
       "\n",
       "                                        neighbors_13  \\\n",
       "0                         [ 330  907 1253 1303 1314]   \n",
       "1        [   40   557 52356 53137 54518 55081 55784]   \n",
       "2               [ 211  686  733  875  927 1298 1378]   \n",
       "3                                      [   88 36851]   \n",
       "4  [   365    426    571    598    926  52685  54...   \n",
       "\n",
       "                                        neighbors_14  \\\n",
       "0                    [ 330  907 1018 1253 1303 1314]   \n",
       "1        [   40   557 52356 53137 54518 55081 55784]   \n",
       "2               [ 211  686  733  875  927 1298 1378]   \n",
       "3                          [   88  1258 36688 36851]   \n",
       "4  [   259    365    426    571    598    795    ...   \n",
       "\n",
       "                                        neighbors_15  \n",
       "0     [ 152  309  330  560  907 1018 1253 1303 1314]  \n",
       "1  [   40   557   727 52356 53137 54518 55081 55784]  \n",
       "2     [ 117  211  686  725  733  875  927 1298 1378]  \n",
       "3                    [   88   851  1258 36688 36851]  \n",
       "4  [   259    365    426    571    598    795    ...  "
      ]
     },
     "execution_count": 29,
     "metadata": {},
     "output_type": "execute_result"
    }
   ],
   "source": [
    "df = pd.read_csv(csv_neighbors, header=0)\n",
    "df.head()"
   ]
  },
  {
   "cell_type": "code",
   "execution_count": 33,
   "metadata": {},
   "outputs": [
    {
     "data": {
      "text/plain": [
       "array(['/cephyr/NOBACKUP/groups/globalpoverty1/Kakooei/DatasetAfricaPoverty/TenYears/Geo28/0000025088-0000010752.tif',\n",
       "       '/cephyr/NOBACKUP/groups/globalpoverty1/Kakooei/DatasetAfricaPoverty/TenYears/Geo28/0000000896-0000023072.tif',\n",
       "       '/cephyr/NOBACKUP/groups/globalpoverty1/Kakooei/DatasetAfricaPoverty/TenYears/Geo28/0000006496-0000020160.tif',\n",
       "       ...,\n",
       "       '/cephyr/NOBACKUP/groups/globalpoverty1/Kakooei/DatasetAfricaPoverty/TenYears/Geo18/0000011200-0000003136.tif',\n",
       "       '/cephyr/NOBACKUP/groups/globalpoverty1/Kakooei/DatasetAfricaPoverty/TenYears/Geo18/0000009408-0000008064.tif',\n",
       "       '/cephyr/NOBACKUP/groups/globalpoverty1/Kakooei/DatasetAfricaPoverty/TenYears/Geo18/0000032928-0000016576.tif'],\n",
       "      dtype=object)"
      ]
     },
     "execution_count": 33,
     "metadata": {},
     "output_type": "execute_result"
    }
   ],
   "source": [
    "asd = df['path'].to_numpy()\n",
    "asd"
   ]
  }
 ],
 "metadata": {
  "interpreter": {
   "hash": "e5c1ededffaddf4ea9b5751265cb7c35ae90a6f4d12a3796792f1890d4794ad9"
  },
  "kernelspec": {
   "display_name": "Python 3",
   "language": "python",
   "name": "python3"
  },
  "language_info": {
   "codemirror_mode": {
    "name": "ipython",
    "version": 3
   },
   "file_extension": ".py",
   "mimetype": "text/x-python",
   "name": "python",
   "nbconvert_exporter": "python",
   "pygments_lexer": "ipython3",
   "version": "3.8.6"
  }
 },
 "nbformat": 4,
 "nbformat_minor": 4
}
