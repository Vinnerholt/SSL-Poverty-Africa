{
 "cells": [
  {
   "cell_type": "code",
   "execution_count": 4,
   "metadata": {},
   "outputs": [
    {
     "ename": "ModuleNotFoundError",
     "evalue": "No module named 'rasterio'",
     "output_type": "error",
     "traceback": [
      "\u001b[1;31m---------------------------------------------------------------------------\u001b[0m",
      "\u001b[1;31mModuleNotFoundError\u001b[0m                       Traceback (most recent call last)",
      "\u001b[1;32m<ipython-input-4-c9d19c6471e1>\u001b[0m in \u001b[0;36m<module>\u001b[1;34m\u001b[0m\n\u001b[0;32m      3\u001b[0m \u001b[1;32mimport\u001b[0m \u001b[0mwarnings\u001b[0m\u001b[1;33m\u001b[0m\u001b[1;33m\u001b[0m\u001b[0m\n\u001b[0;32m      4\u001b[0m \u001b[1;32mimport\u001b[0m \u001b[0mrandom\u001b[0m\u001b[1;33m\u001b[0m\u001b[1;33m\u001b[0m\u001b[0m\n\u001b[1;32m----> 5\u001b[1;33m \u001b[1;32mimport\u001b[0m \u001b[0mrasterio\u001b[0m \u001b[1;32mas\u001b[0m \u001b[0mrio\u001b[0m\u001b[1;33m\u001b[0m\u001b[1;33m\u001b[0m\u001b[0m\n\u001b[0m\u001b[0;32m      6\u001b[0m \u001b[1;32mfrom\u001b[0m \u001b[0mrasterio\u001b[0m\u001b[1;33m.\u001b[0m\u001b[0mplot\u001b[0m \u001b[1;32mimport\u001b[0m \u001b[0mshow\u001b[0m\u001b[1;33m\u001b[0m\u001b[1;33m\u001b[0m\u001b[0m\n\u001b[0;32m      7\u001b[0m \u001b[1;32mimport\u001b[0m \u001b[0mtorch\u001b[0m\u001b[1;33m\u001b[0m\u001b[1;33m\u001b[0m\u001b[0m\n",
      "\u001b[1;31mModuleNotFoundError\u001b[0m: No module named 'rasterio'"
     ]
    }
   ],
   "source": [
    "import pandas as pd\n",
    "import numpy as np\n",
    "import warnings\n",
    "import random\n",
    "import rasterio as rio\n",
    "from rasterio.plot import show\n",
    "import torch\n",
    "from glob import glob"
   ]
  },
  {
   "cell_type": "code",
   "execution_count": 2,
   "metadata": {},
   "outputs": [],
   "source": [
    "csv_small = '/cephyr/NOBACKUP/groups/globalpoverty1/JesperBenjamin/imagepath1000.csv'\n",
    "csv = '/cephyr/NOBACKUP/groups/globalpoverty1/JesperBenjamin/imagepathfull2.csv'"
   ]
  },
  {
   "cell_type": "code",
   "execution_count": 4,
   "metadata": {},
   "outputs": [
    {
     "name": "stdout",
     "output_type": "stream",
     "text": [
      "1000\n"
     ]
    },
    {
     "data": {
      "text/html": [
       "<div>\n",
       "<style scoped>\n",
       "    .dataframe tbody tr th:only-of-type {\n",
       "        vertical-align: middle;\n",
       "    }\n",
       "\n",
       "    .dataframe tbody tr th {\n",
       "        vertical-align: top;\n",
       "    }\n",
       "\n",
       "    .dataframe thead th {\n",
       "        text-align: right;\n",
       "    }\n",
       "</style>\n",
       "<table border=\"1\" class=\"dataframe\">\n",
       "  <thead>\n",
       "    <tr style=\"text-align: right;\">\n",
       "      <th></th>\n",
       "      <th>path</th>\n",
       "    </tr>\n",
       "  </thead>\n",
       "  <tbody>\n",
       "    <tr>\n",
       "      <th>0</th>\n",
       "      <td>/cephyr/NOBACKUP/groups/globalpoverty1/Kakooei...</td>\n",
       "    </tr>\n",
       "    <tr>\n",
       "      <th>1</th>\n",
       "      <td>/cephyr/NOBACKUP/groups/globalpoverty1/Kakooei...</td>\n",
       "    </tr>\n",
       "    <tr>\n",
       "      <th>2</th>\n",
       "      <td>/cephyr/NOBACKUP/groups/globalpoverty1/Kakooei...</td>\n",
       "    </tr>\n",
       "    <tr>\n",
       "      <th>3</th>\n",
       "      <td>/cephyr/NOBACKUP/groups/globalpoverty1/Kakooei...</td>\n",
       "    </tr>\n",
       "    <tr>\n",
       "      <th>4</th>\n",
       "      <td>/cephyr/NOBACKUP/groups/globalpoverty1/Kakooei...</td>\n",
       "    </tr>\n",
       "  </tbody>\n",
       "</table>\n",
       "</div>"
      ],
      "text/plain": [
       "                                                path\n",
       "0  /cephyr/NOBACKUP/groups/globalpoverty1/Kakooei...\n",
       "1  /cephyr/NOBACKUP/groups/globalpoverty1/Kakooei...\n",
       "2  /cephyr/NOBACKUP/groups/globalpoverty1/Kakooei...\n",
       "3  /cephyr/NOBACKUP/groups/globalpoverty1/Kakooei...\n",
       "4  /cephyr/NOBACKUP/groups/globalpoverty1/Kakooei..."
      ]
     },
     "execution_count": 4,
     "metadata": {},
     "output_type": "execute_result"
    }
   ],
   "source": [
    "df = pd.read_csv(csv_small, header=0)\n",
    "print(len(df.index))\n",
    "df.head()"
   ]
  },
  {
   "cell_type": "code",
   "execution_count": 5,
   "metadata": {},
   "outputs": [
    {
     "name": "stdout",
     "output_type": "stream",
     "text": [
      "/cephyr/NOBACKUP/groups/globalpoverty1/Kakooei/DatasetAfricaPoverty/TenYears/Geo28/0000025088-0000010752.tif\n",
      "<open DatasetReader name='/cephyr/NOBACKUP/groups/globalpoverty1/Kakooei/DatasetAfricaPoverty/TenYears/Geo28/0000025088-0000010752.tif' mode='r'>\n"
     ]
    }
   ],
   "source": [
    "img_path = df.iloc[0]['path']\n",
    "print(img_path)\n",
    "\n",
    "img_src = rio.open(img_path)\n",
    "print(img_src)\n"
   ]
  },
  {
   "cell_type": "code",
   "execution_count": 6,
   "metadata": {},
   "outputs": [
    {
     "name": "stdout",
     "output_type": "stream",
     "text": [
      "BoundingBox(left=39.82429283864345, bottom=-3.582122026955004, right=39.88465962573628, top=-3.521755239862172)\n",
      "BoundingBox(left=39.82429283864345, bottom=-3.582122026955004, right=39.88465962573628, top=-3.521755239862172)\n",
      "39.82429283864345\n",
      "39.85447623218987\n",
      "-3.551938633408588\n"
     ]
    }
   ],
   "source": [
    "\n",
    "print(img_src.bounds)\n",
    "bounds = img_src.bounds\n",
    "print(bounds)\n",
    "print(bounds.left)\n",
    "\n",
    "x = (bounds.left + bounds.right) / 2\n",
    "print(x)\n",
    "\n",
    "y = (bounds.top + bounds.bottom) / 2\n",
    "print(y)"
   ]
  },
  {
   "cell_type": "code",
   "execution_count": 12,
   "metadata": {},
   "outputs": [],
   "source": [
    "lat_list = []\n",
    "lon_list = []\n",
    "for path in df['path']:\n",
    "\n",
    "    img_src = rio.open(path)\n",
    "    bounds = img_src.bounds\n",
    "\n",
    "    lat = (bounds.top + bounds.bottom) / 2\n",
    "    lon = (bounds.left + bounds.right) / 2\n",
    "\n",
    "    lat_list.append(lat)\n",
    "    lon_list.append(lon)\n",
    "\n"
   ]
  },
  {
   "cell_type": "code",
   "execution_count": 15,
   "metadata": {},
   "outputs": [
    {
     "data": {
      "text/plain": [
       "1000"
      ]
     },
     "execution_count": 15,
     "metadata": {},
     "output_type": "execute_result"
    }
   ],
   "source": [
    "len(lon_list)"
   ]
  },
  {
   "cell_type": "code",
   "execution_count": 7,
   "metadata": {},
   "outputs": [
    {
     "name": "stdout",
     "output_type": "stream",
     "text": [
      "0.09009009009009009\n"
     ]
    }
   ],
   "source": [
    "deg_to_km = 111\n",
    "km_to_deg = 1/deg_to_km\n",
    "\n",
    "radius_km = 10\n",
    "radius_deg = radius_km * km_to_deg\n",
    "print(radius_deg)\n",
    "#MIN_DIST = np.sqrt(side_deg**2 * 2)\n",
    "#print(MIN_DIST)"
   ]
  },
  {
   "cell_type": "code",
   "execution_count": 8,
   "metadata": {},
   "outputs": [
    {
     "ename": "NameError",
     "evalue": "name 'df' is not defined",
     "output_type": "error",
     "traceback": [
      "\u001b[1;31m---------------------------------------------------------------------------\u001b[0m",
      "\u001b[1;31mNameError\u001b[0m                                 Traceback (most recent call last)",
      "\u001b[1;32m<ipython-input-8-2ef698883a80>\u001b[0m in \u001b[0;36m<module>\u001b[1;34m\u001b[0m\n\u001b[1;32m----> 1\u001b[1;33m \u001b[1;32mfor\u001b[0m \u001b[0mloc\u001b[0m \u001b[1;32min\u001b[0m \u001b[0mdf\u001b[0m\u001b[1;33m:\u001b[0m\u001b[1;33m\u001b[0m\u001b[1;33m\u001b[0m\u001b[0m\n\u001b[0m\u001b[0;32m      2\u001b[0m     \u001b[0mprint\u001b[0m\u001b[1;33m(\u001b[0m\u001b[0mloc\u001b[0m\u001b[1;33m)\u001b[0m\u001b[1;33m\u001b[0m\u001b[1;33m\u001b[0m\u001b[0m\n\u001b[0;32m      3\u001b[0m     \u001b[1;32mbreak\u001b[0m\u001b[1;33m\u001b[0m\u001b[1;33m\u001b[0m\u001b[0m\n",
      "\u001b[1;31mNameError\u001b[0m: name 'df' is not defined"
     ]
    }
   ],
   "source": [
    "for loc in df:\n",
    "    print(loc)\n",
    "    break"
   ]
  },
  {
   "cell_type": "code",
   "execution_count": 14,
   "metadata": {},
   "outputs": [
    {
     "name": "stdout",
     "output_type": "stream",
     "text": [
      "0.09009009009009009\n"
     ]
    },
    {
     "data": {
      "text/html": [
       "<div>\n",
       "<style scoped>\n",
       "    .dataframe tbody tr th:only-of-type {\n",
       "        vertical-align: middle;\n",
       "    }\n",
       "\n",
       "    .dataframe tbody tr th {\n",
       "        vertical-align: top;\n",
       "    }\n",
       "\n",
       "    .dataframe thead th {\n",
       "        text-align: right;\n",
       "    }\n",
       "</style>\n",
       "<table border=\"1\" class=\"dataframe\">\n",
       "  <thead>\n",
       "    <tr style=\"text-align: right;\">\n",
       "      <th></th>\n",
       "      <th>path</th>\n",
       "      <th>lat</th>\n",
       "      <th>lon</th>\n",
       "    </tr>\n",
       "  </thead>\n",
       "  <tbody>\n",
       "    <tr>\n",
       "      <th>0</th>\n",
       "      <td>/cephyr/NOBACKUP/groups/globalpoverty1/Kakooei...</td>\n",
       "      <td>-3.551939</td>\n",
       "      <td>39.854476</td>\n",
       "    </tr>\n",
       "    <tr>\n",
       "      <th>1</th>\n",
       "      <td>/cephyr/NOBACKUP/groups/globalpoverty1/Kakooei...</td>\n",
       "      <td>2.967674</td>\n",
       "      <td>43.174650</td>\n",
       "    </tr>\n",
       "    <tr>\n",
       "      <th>2</th>\n",
       "      <td>/cephyr/NOBACKUP/groups/globalpoverty1/Kakooei...</td>\n",
       "      <td>1.458505</td>\n",
       "      <td>42.389881</td>\n",
       "    </tr>\n",
       "    <tr>\n",
       "      <th>3</th>\n",
       "      <td>/cephyr/NOBACKUP/groups/globalpoverty1/Kakooei...</td>\n",
       "      <td>-2.103136</td>\n",
       "      <td>37.137971</td>\n",
       "    </tr>\n",
       "    <tr>\n",
       "      <th>4</th>\n",
       "      <td>/cephyr/NOBACKUP/groups/globalpoverty1/Kakooei...</td>\n",
       "      <td>2.846941</td>\n",
       "      <td>44.019785</td>\n",
       "    </tr>\n",
       "  </tbody>\n",
       "</table>\n",
       "</div>"
      ],
      "text/plain": [
       "                                                path       lat        lon\n",
       "0  /cephyr/NOBACKUP/groups/globalpoverty1/Kakooei... -3.551939  39.854476\n",
       "1  /cephyr/NOBACKUP/groups/globalpoverty1/Kakooei...  2.967674  43.174650\n",
       "2  /cephyr/NOBACKUP/groups/globalpoverty1/Kakooei...  1.458505  42.389881\n",
       "3  /cephyr/NOBACKUP/groups/globalpoverty1/Kakooei... -2.103136  37.137971\n",
       "4  /cephyr/NOBACKUP/groups/globalpoverty1/Kakooei...  2.846941  44.019785"
      ]
     },
     "execution_count": 14,
     "metadata": {},
     "output_type": "execute_result"
    }
   ],
   "source": [
    "from sklearn.metrics.pairwise import euclidean_distances\n",
    "from scipy.spatial.distance import cdist\n",
    "\n",
    "deg_to_km = 111\n",
    "km_to_deg = 1/deg_to_km\n",
    "\n",
    "radius_km = 10\n",
    "radius_deg = radius_km * km_to_deg\n",
    "print(radius_deg)\n",
    "\n",
    "df = pd.read_csv('imagepaths_lat_lon2.csv')\n",
    "\n",
    "\n",
    "\n",
    "locs = df[['lat', 'lon']].values\n",
    "locs_1000 = df.iloc[:1000][['lat', 'lon']].values\n",
    "\n",
    "df.head()"
   ]
  },
  {
   "cell_type": "code",
   "execution_count": 12,
   "metadata": {},
   "outputs": [
    {
     "data": {
      "text/plain": [
       "array([[0.        , 7.31634502, 5.61540926, ..., 4.3068223 , 5.86055494,\n",
       "        3.59473953],\n",
       "       [7.31634502, 0.        , 1.70101567, ..., 6.2365056 , 1.47374109,\n",
       "        3.92384116],\n",
       "       [5.61540926, 1.70101567, 0.        , ..., 4.95044462, 0.30781143,\n",
       "        2.3010755 ],\n",
       "       ...,\n",
       "       [4.3068223 , 6.2365056 , 4.95044462, ..., 0.        , 4.98272887,\n",
       "        4.68844395],\n",
       "       [5.86055494, 1.47374109, 0.30781143, ..., 4.98272887, 0.        ,\n",
       "        2.59857809],\n",
       "       [3.59473953, 3.92384116, 2.3010755 , ..., 4.68844395, 2.59857809,\n",
       "        0.        ]])"
      ]
     },
     "execution_count": 12,
     "metadata": {},
     "output_type": "execute_result"
    }
   ],
   "source": [
    "euclidean_distances(locs_1000, locs_1000)"
   ]
  },
  {
   "cell_type": "code",
   "execution_count": 15,
   "metadata": {},
   "outputs": [
    {
     "data": {
      "text/plain": [
       "array([[0.        , 7.31634502, 5.61540926, ..., 4.3068223 , 5.86055494,\n",
       "        3.59473953],\n",
       "       [7.31634502, 0.        , 1.70101567, ..., 6.2365056 , 1.47374109,\n",
       "        3.92384116],\n",
       "       [5.61540926, 1.70101567, 0.        , ..., 4.95044462, 0.30781143,\n",
       "        2.3010755 ],\n",
       "       ...,\n",
       "       [4.3068223 , 6.2365056 , 4.95044462, ..., 0.        , 4.98272887,\n",
       "        4.68844395],\n",
       "       [5.86055494, 1.47374109, 0.30781143, ..., 4.98272887, 0.        ,\n",
       "        2.59857809],\n",
       "       [3.59473953, 3.92384116, 2.3010755 , ..., 4.68844395, 2.59857809,\n",
       "        0.        ]])"
      ]
     },
     "execution_count": 15,
     "metadata": {},
     "output_type": "execute_result"
    }
   ],
   "source": [
    "cdist(locs_1000, locs_1000)"
   ]
  },
  {
   "cell_type": "code",
   "execution_count": 21,
   "metadata": {},
   "outputs": [
    {
     "data": {
      "text/plain": [
       "136963"
      ]
     },
     "execution_count": 21,
     "metadata": {},
     "output_type": "execute_result"
    }
   ],
   "source": [
    "#dists = euclidean_distances(locs, locs)\n",
    "dists = cdist([locs[0]], locs)\n",
    "len(dists[0])"
   ]
  },
  {
   "cell_type": "code",
   "execution_count": null,
   "metadata": {},
   "outputs": [
    {
     "ename": "ModuleNotFoundError",
     "evalue": "No module named 'rasterio'",
     "output_type": "error",
     "traceback": [
      "\u001b[1;31m---------------------------------------------------------------------------\u001b[0m\n",
      "\u001b[1;31mModuleNotFoundError\u001b[0m                       Traceback (most recent call last)\n",
      "\u001b[1;32m<ipython-input-4-c9d19c6471e1>\u001b[0m in \u001b[0;36m<module>\u001b[1;34m\u001b[0m\n",
      "\u001b[0;32m      3\u001b[0m \u001b[1;32mimport\u001b[0m \u001b[0mwarnings\u001b[0m\u001b[1;33m\u001b[0m\u001b[1;33m\u001b[0m\u001b[0m\n",
      "\u001b[0;32m      4\u001b[0m \u001b[1;32mimport\u001b[0m \u001b[0mrandom\u001b[0m\u001b[1;33m\u001b[0m\u001b[1;33m\u001b[0m\u001b[0m\n",
      "\u001b[1;32m----> 5\u001b[1;33m \u001b[1;32mimport\u001b[0m \u001b[0mrasterio\u001b[0m \u001b[1;32mas\u001b[0m \u001b[0mrio\u001b[0m\u001b[1;33m\u001b[0m\u001b[1;33m\u001b[0m\u001b[0m\n",
      "\u001b[0m\u001b[0;32m      6\u001b[0m \u001b[1;32mfrom\u001b[0m \u001b[0mrasterio\u001b[0m\u001b[1;33m.\u001b[0m\u001b[0mplot\u001b[0m \u001b[1;32mimport\u001b[0m \u001b[0mshow\u001b[0m\u001b[1;33m\u001b[0m\u001b[1;33m\u001b[0m\u001b[0m\n",
      "\u001b[0;32m      7\u001b[0m \u001b[1;32mimport\u001b[0m \u001b[0mtorch\u001b[0m\u001b[1;33m\u001b[0m\u001b[1;33m\u001b[0m\u001b[0m\n",
      "\n",
      "\u001b[1;31mModuleNotFoundError\u001b[0m: No module named 'rasterio'"
     ]
    }
   ],
   "source": [
    "import pandas as pd\n",
    "import numpy as np\n",
    "import warnings\n",
    "import random\n",
    "import rasterio as rio\n",
    "from rasterio.plot import show\n",
    "import torch\n",
    "from glob import glob"
   ]
  }
 ],
 "metadata": {
  "interpreter": {
   "hash": "d025a9ddeab932afeffa78e9efd9a5cf9b08f81f883542c5638e0b7a85f5538d"
  },
  "kernelspec": {
   "display_name": "Python 3.8.3 ('base')",
   "language": "python",
   "name": "python3"
  },
  "language_info": {
   "codemirror_mode": {
    "name": "ipython",
    "version": 3
   },
   "file_extension": ".py",
   "mimetype": "text/x-python",
   "name": "python",
   "nbconvert_exporter": "python",
   "pygments_lexer": "ipython3",
   "version": "3.8.3"
  },
  "orig_nbformat": 4
 },
 "nbformat": 4,
 "nbformat_minor": 2
}
